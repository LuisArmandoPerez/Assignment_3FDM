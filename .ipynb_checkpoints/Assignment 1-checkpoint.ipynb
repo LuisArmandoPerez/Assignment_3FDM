{
 "cells": [
  {
   "cell_type": "markdown",
   "metadata": {},
   "source": [
    "# Foundations of Data Mining: Assignment 1\n",
    "\n",
    "Please complete all assignments in this notebook. You should submit this notebook, as well as a PDF version (See File > Download as)."
   ]
  },
  {
   "cell_type": "code",
   "execution_count": 1,
   "metadata": {
    "collapsed": false
   },
   "outputs": [],
   "source": [
    "%matplotlib inline\n",
    "from preamble import *\n",
    "plt.rcParams['savefig.dpi'] = 100\n",
    "InteractiveShell.ast_node_interactivity = \"all\"\n"
   ]
  },
  {
   "cell_type": "markdown",
   "metadata": {},
   "source": [
    "## Handwritten digit recognition (5 points, 1+2+2)\n",
    "The [MNIST dataset](https://www.openml.org/d/554) contains 70,000 images of handwritten digits (0-9) represented by 28 by 28 pixel values. We can easily download it from OpenML and visualize one of the examples:"
   ]
  },
  {
   "cell_type": "code",
   "execution_count": 2,
   "metadata": {
    "collapsed": false
   },
   "outputs": [],
   "source": [
    "oml.config.apikey = '3bc7c6beab7eaf9478dcd639ce35056f'"
   ]
  },
  {
   "cell_type": "code",
   "execution_count": 3,
   "metadata": {
    "collapsed": false
   },
   "outputs": [
    {
     "data": {
      "text/plain": [
       "<matplotlib.image.AxesImage at 0x1e2020a0400>"
      ]
     },
     "execution_count": 3,
     "metadata": {},
     "output_type": "execute_result"
    },
    {
     "name": "stdout",
     "output_type": "stream",
     "text": [
      "Class label: 5\n"
     ]
    },
    {
     "data": {
      "application/pdf": "[encoded data removed]",
      "image/png": "[encoded data removed]",
      "text/plain": [
       "<matplotlib.figure.Figure at 0x1e20211c320>"
      ]
     },
     "metadata": {},
     "output_type": "display_data"
    }
   ],
   "source": [
    "mnist_data = oml.datasets.get_dataset(554) # Download MNIST data\n",
    "X, y = mnist_data.get_data(target=mnist_data.default_target_attribute); # Get the predictors X and the labels y\n",
    "plt.imshow(X[0].reshape(28, 28), cmap=plt.cm.gray_r) # Take the first example, reshape to a 28x28 image and plot\n",
    "print(\"Class label:\",y[0]) # Print the correct class label"
   ]
  },
  {
   "cell_type": "markdown",
   "metadata": {},
   "source": [
    "- Evaluate a k-Nearest Neighbor classifier with its default settings.\n",
    "    - Use the first 60,000 examples as the training set and the last 10,000 as the test set\n",
    "    - What is the predictive accuracy?\n",
    "    - Find a few misclassifications, and plot them together with the true labels (as above). Are these images really hard to classify?\n",
    "- Optimize the value for the number of neighbors $k$ (keep $k$ < 50) on a stratified subsample (e.g. 10%) of the data\n",
    "    - Use 10-fold crossvalidation and plot $k$ against the misclassification rate. Which value of $k$ should you pick?\n",
    "    - Do the same but with 100 bootstrapping repeats. Are the results different? Explain.\n",
    "- Compare kNN against the linear classification models that we have covered in the course (logistic regression and linear SVMs).\n",
    "    - First use the default hyperparameter settings.\n",
    "    - Next, optimize for the degree of regularization ($C$) and choice of penalty (L1/L2). Again, plot the accuracy while increasing the degree of regularization for different penalties. Interpret the results. \n",
    "    - Report is the optimal performance. Can you get better results than kNN?\n",
    "    \n",
    "Report all results clearly and interpret the results.  \n",
    "Note: while prototyping/bugfixing, you can speed up experiments by taking a smaller sample of the data, but report your results as indicated above."
   ]
  },
  {
   "cell_type": "markdown",
   "metadata": {},
   "source": [
    "## Evaluate the k-Neareast Neighbor classifier with default settings. "
   ]
  },
  {
   "cell_type": "markdown",
   "metadata": {},
   "source": [
    "- Evaluate a k-Nearest Neighbor classifier with its default settings.\n",
    "    - Use the first 60,000 examples as the training set and the last 10,000 as the test set\n",
    "    - What is the predictive accuracy?\n",
    "    - Find a few misclassifications, and plot them together with the true labels (as above). Are these images really hard to classify?"
   ]
  },
  {
   "cell_type": "markdown",
   "metadata": {},
   "source": [
    "**Smaller data sets**"
   ]
  },
  {
   "cell_type": "markdown",
   "metadata": {},
   "source": [
    "First we need to choose the proportion of data that we will be using as training and as test. Since we want to have 60,000 training examples and 10,000 test examples we need to choose the appropriate proportions. In this case the proportions would be given by :\n",
    "\n",
    "$x_{train}=\\frac{6}{7}$ and $x_{test}=\\frac{1}{7}$"
   ]
  },
  {
   "cell_type": "code",
   "execution_count": 4,
   "metadata": {
    "collapsed": false
   },
   "outputs": [],
   "source": [
    "# Just in case you need to take less time \n",
    "#X=X[0:1000];y=y[0:1000]"
   ]
  },
  {
   "cell_type": "code",
   "execution_count": 5,
   "metadata": {
    "collapsed": false
   },
   "outputs": [
    {
     "data": {
      "text/plain": [
       "KNeighborsClassifier(algorithm='auto', leaf_size=30, metric='minkowski',\n",
       "           metric_params=None, n_jobs=1, n_neighbors=5, p=2,\n",
       "           weights='uniform')"
      ]
     },
     "execution_count": 5,
     "metadata": {},
     "output_type": "execute_result"
    }
   ],
   "source": [
    "percentage = 1/7 #Percentage of test data\n",
    "from sklearn.model_selection import train_test_split\n",
    "from sklearn.neighbors import KNeighborsClassifier\n",
    "# We split the data into train and test data\n",
    "X_train, X_test, y_train, y_test = train_test_split(X, y,test_size=percentage , random_state=0)\n",
    "\n",
    "# Label our method and train it with the train data.\n",
    "clf = KNeighborsClassifier()\n",
    "clf.fit(X_train, y_train)"
   ]
  },
  {
   "cell_type": "markdown",
   "metadata": {},
   "source": [
    "**Predictive accuracy**"
   ]
  },
  {
   "cell_type": "markdown",
   "metadata": {},
   "source": [
    "The predictive accuracy is obtained from evaluating the model created by Kneighbors on the test data that we have from the data split. "
   ]
  },
  {
   "cell_type": "code",
   "execution_count": 6,
   "metadata": {
    "collapsed": false
   },
   "outputs": [
    {
     "name": "stdout",
     "output_type": "stream",
     "text": [
      "Test set accuracy: 0.97\n"
     ]
    }
   ],
   "source": [
    "print(\"Test set accuracy: %.2f\" % clf.score(X_test, y_test))"
   ]
  },
  {
   "cell_type": "markdown",
   "metadata": {},
   "source": [
    "**Few misclassifications**"
   ]
  },
  {
   "cell_type": "markdown",
   "metadata": {},
   "source": [
    "To identify some of the missclassifications that we have from evaluating our test data, we need to compare to the true labels of these data. We use the already trained model applied to the test data and compare the labels of our model to the real ones."
   ]
  },
  {
   "cell_type": "code",
   "execution_count": 7,
   "metadata": {
    "collapsed": false
   },
   "outputs": [],
   "source": [
    "# First we obtain the prediction labels for our test data\n",
    "labeled_test = clf.predict(X_test)\n",
    "\n",
    "# We get the indexes of the data which have been incorrectly labeled\n",
    "index_of_incorrect = [labeled_test!=y_test]\n",
    "\n",
    "# We extract the values that were given by our model incorrectly\n",
    "incorrect_values = np.array([labeled_test[index_of_incorrect]])\n",
    "incorrect_values=np.transpose(incorrect_values)\n",
    "\n",
    "# We extract the data values of the incorrectly labeled data\n",
    "incorrect_images = np.array(X_test[index_of_incorrect])\n",
    "\n",
    "# We extract the real values that our algorithm should have identified (this are the real labels)\n",
    "y_test_incorrect = np.array(y_test[index_of_incorrect])\n"
   ]
  },
  {
   "cell_type": "markdown",
   "metadata": {},
   "source": [
    "Now we plot the images of the first ten incorrectly labeled samples. We also print the values of the correct class label and the predicted label to compare them.  "
   ]
  },
  {
   "cell_type": "code",
   "execution_count": 8,
   "metadata": {
    "collapsed": false
   },
   "outputs": [
    {
     "data": {
      "text/plain": [
       "<matplotlib.image.AxesImage at 0x1e21104c1d0>"
      ]
     },
     "execution_count": 8,
     "metadata": {},
     "output_type": "execute_result"
    },
    {
     "data": {
      "application/pdf": "[encoded data removed]",
      "image/png": "[encoded data removed]",
      "text/plain": [
       "<matplotlib.figure.Figure at 0x1e20f4c5518>"
      ]
     },
     "metadata": {},
     "output_type": "display_data"
    },
    {
     "name": "stdout",
     "output_type": "stream",
     "text": [
      "Real class label: 8 Algorithm labels [1]\n"
     ]
    },
    {
     "data": {
      "text/plain": [
       "<matplotlib.image.AxesImage at 0x1e2110aceb8>"
      ]
     },
     "execution_count": 8,
     "metadata": {},
     "output_type": "execute_result"
    },
    {
     "data": {
      "application/pdf": "[encoded data removed]",
      "image/png": "[encoded data removed]",
      "text/plain": [
       "<matplotlib.figure.Figure at 0x1e211040a58>"
      ]
     },
     "metadata": {},
     "output_type": "display_data"
    },
    {
     "name": "stdout",
     "output_type": "stream",
     "text": [
      "Real class label: 3 Algorithm labels [5]\n"
     ]
    },
    {
     "data": {
      "text/plain": [
       "<matplotlib.image.AxesImage at 0x1e211112fd0>"
      ]
     },
     "execution_count": 8,
     "metadata": {},
     "output_type": "execute_result"
    },
    {
     "data": {
      "application/pdf": "[encoded data removed]",
      "image/png": "[encoded data removed]",
      "text/plain": [
       "<matplotlib.figure.Figure at 0x1e21108e9b0>"
      ]
     },
     "metadata": {},
     "output_type": "display_data"
    },
    {
     "name": "stdout",
     "output_type": "stream",
     "text": [
      "Real class label: 8 Algorithm labels [3]\n"
     ]
    },
    {
     "data": {
      "text/plain": [
       "<matplotlib.image.AxesImage at 0x1e212145e48>"
      ]
     },
     "execution_count": 8,
     "metadata": {},
     "output_type": "execute_result"
    },
    {
     "data": {
      "application/pdf": "[encoded data removed]",
      "image/png": "[encoded data removed]",
      "text/plain": [
       "<matplotlib.figure.Figure at 0x1e2110b2ef0>"
      ]
     },
     "metadata": {},
     "output_type": "display_data"
    },
    {
     "name": "stdout",
     "output_type": "stream",
     "text": [
      "Real class label: 8 Algorithm labels [3]\n"
     ]
    },
    {
     "data": {
      "text/plain": [
       "<matplotlib.image.AxesImage at 0x1e2121abe80>"
      ]
     },
     "execution_count": 8,
     "metadata": {},
     "output_type": "execute_result"
    },
    {
     "data": {
      "application/pdf": "[encoded data removed]",
      "image/png": "[encoded data removed]",
      "text/plain": [
       "<matplotlib.figure.Figure at 0x1e211071ef0>"
      ]
     },
     "metadata": {},
     "output_type": "display_data"
    },
    {
     "name": "stdout",
     "output_type": "stream",
     "text": [
      "Real class label: 9 Algorithm labels [7]\n"
     ]
    },
    {
     "data": {
      "text/plain": [
       "<matplotlib.image.AxesImage at 0x1e21220ecf8>"
      ]
     },
     "execution_count": 8,
     "metadata": {},
     "output_type": "execute_result"
    },
    {
     "data": {
      "application/pdf": "[encoded data removed]",
      "image/png": "[encoded data removed]",
      "text/plain": [
       "<matplotlib.figure.Figure at 0x1e2110d5b38>"
      ]
     },
     "metadata": {},
     "output_type": "display_data"
    },
    {
     "name": "stdout",
     "output_type": "stream",
     "text": [
      "Real class label: 9 Algorithm labels [2]\n"
     ]
    },
    {
     "data": {
      "text/plain": [
       "<matplotlib.image.AxesImage at 0x1e212275d30>"
      ]
     },
     "execution_count": 8,
     "metadata": {},
     "output_type": "execute_result"
    },
    {
     "data": {
      "application/pdf": "[encoded data removed]",
      "image/png": "[encoded data removed]",
      "text/plain": [
       "<matplotlib.figure.Figure at 0x1e21110b908>"
      ]
     },
     "metadata": {},
     "output_type": "display_data"
    },
    {
     "name": "stdout",
     "output_type": "stream",
     "text": [
      "Real class label: 2 Algorithm labels [9]\n"
     ]
    },
    {
     "data": {
      "text/plain": [
       "<matplotlib.image.AxesImage at 0x1e2122daba8>"
      ]
     },
     "execution_count": 8,
     "metadata": {},
     "output_type": "execute_result"
    },
    {
     "data": {
      "application/pdf": "[encoded data removed]",
      "image/png": "[encoded data removed]",
      "text/plain": [
       "<matplotlib.figure.Figure at 0x1e2121f5ba8>"
      ]
     },
     "metadata": {},
     "output_type": "display_data"
    },
    {
     "name": "stdout",
     "output_type": "stream",
     "text": [
      "Real class label: 4 Algorithm labels [9]\n"
     ]
    },
    {
     "data": {
      "text/plain": [
       "<matplotlib.image.AxesImage at 0x1e21233ebe0>"
      ]
     },
     "execution_count": 8,
     "metadata": {},
     "output_type": "execute_result"
    },
    {
     "data": {
      "application/pdf": "[encoded data removed]",
      "image/png": "[encoded data removed]",
      "text/plain": [
       "<matplotlib.figure.Figure at 0x1e2122b9400>"
      ]
     },
     "metadata": {},
     "output_type": "display_data"
    },
    {
     "name": "stdout",
     "output_type": "stream",
     "text": [
      "Real class label: 3 Algorithm labels [2]\n"
     ]
    },
    {
     "data": {
      "text/plain": [
       "<matplotlib.image.AxesImage at 0x1e2123a2a58>"
      ]
     },
     "execution_count": 8,
     "metadata": {},
     "output_type": "execute_result"
    },
    {
     "data": {
      "application/pdf": "[encoded data removed]",
      "image/png": "[encoded data removed]",
      "text/plain": [
       "<matplotlib.figure.Figure at 0x1e2121d4f98>"
      ]
     },
     "metadata": {},
     "output_type": "display_data"
    },
    {
     "name": "stdout",
     "output_type": "stream",
     "text": [
      "Real class label: 2 Algorithm labels [7]\n"
     ]
    }
   ],
   "source": [
    "for i in range(10):\n",
    "    plt.imshow(incorrect_images[i].reshape(28, 28), cmap=plt.cm.gray_r) # Take the first example, reshape to a 28x28 image and plot\n",
    "    plt.show()\n",
    "    print(\"Real class label:\",y_test_incorrect[i],\"Algorithm labels\",incorrect_values[i]) # Print the correct class label\n",
    "    \n"
   ]
  },
  {
   "cell_type": "markdown",
   "metadata": {},
   "source": [
    "From the examples obtained in the missclassifications we notice that sometimes there are some problems with certain classifications. For example: the number 1 can be easily missclasified as a 7 and viceversa as well as 9 and 4. Numbers that seem to have similar characteristics (round parts or vertical lines) tend to be missclassified by our algorithm."
   ]
  },
  {
   "cell_type": "markdown",
   "metadata": {},
   "source": [
    "One usefull way of visualizing the amount of errors commited by our algorithm is by using the confusion matrix."
   ]
  },
  {
   "cell_type": "code",
   "execution_count": 9,
   "metadata": {
    "collapsed": false
   },
   "outputs": [
    {
     "data": {
      "text/plain": [
       "<matplotlib.text.Text at 0x1e2121a51d0>"
      ]
     },
     "execution_count": 9,
     "metadata": {},
     "output_type": "execute_result"
    },
    {
     "data": {
      "application/pdf": "[encoded data removed]",
      "image/png": "[encoded data removed]",
      "text/plain": [
       "<matplotlib.figure.Figure at 0x1e2122f0668>"
      ]
     },
     "metadata": {},
     "output_type": "display_data"
    }
   ],
   "source": [
    "from sklearn.metrics import confusion_matrix\n",
    "from sklearn.datasets import load_digits\n",
    "# We load the digits used and the results from trying our model in the test data.\n",
    "digits = load_digits()\n",
    "pred = labeled_test\n",
    "\n",
    "# We create the confusion matrix with the number of correct and incorrect predictions for each digit.\n",
    "scores_image = mglearn.tools.heatmap(\n",
    "    confusion_matrix(y_test, pred), xlabel='Predicted label',\n",
    "    ylabel='True label', xticklabels=digits.target_names,\n",
    "    yticklabels=digits.target_names, cmap=plt.cm.gray_r, fmt=\"%d\")    \n",
    "plt.title(\"Confusion matrix\")\n",
    "plt.gca().invert_yaxis()"
   ]
  },
  {
   "cell_type": "markdown",
   "metadata": {},
   "source": [
    "From the confusion matrix we can already identify the number of correctly and incorrectly labeled data. Some extra information about which errors are commited for each digit is presented."
   ]
  },
  {
   "cell_type": "markdown",
   "metadata": {},
   "source": [
    "## Cross validation"
   ]
  },
  {
   "cell_type": "markdown",
   "metadata": {},
   "source": [
    "- Optimize the value for the number of neighbors $k$ (keep $k$ < 50) on a stratified subsample (e.g. 10%) of the data\n",
    "    - Use 10-fold crossvalidation and plot $k$ against the misclassification rate. Which value of $k$ should you pick?\n",
    "    - Do the same but with 100 bootstrapping repeats. Are the results different? Explain."
   ]
  },
  {
   "cell_type": "markdown",
   "metadata": {},
   "source": [
    "First we will create a smaller data set with 10% of the original data. We will use the train_test_split function to do so. "
   ]
  },
  {
   "cell_type": "code",
   "execution_count": 10,
   "metadata": {
    "collapsed": false
   },
   "outputs": [],
   "source": [
    "from sklearn.model_selection import train_test_split\n",
    "from sklearn.neighbors import KNeighborsClassifier\n",
    "mnist_data = oml.datasets.get_dataset(554) # Download MNIST data\n",
    "X, y = mnist_data.get_data(target=mnist_data.default_target_attribute); # Get the predictors X and the labels y\n",
    "# We take a stratified subsample of the 10% of the data.\n",
    "dummy, X_10percent, dummy, y_10percent = train_test_split(X, y,test_size=0.1 , random_state=0)"
   ]
  },
  {
   "cell_type": "code",
   "execution_count": 12,
   "metadata": {
    "collapsed": false
   },
   "outputs": [
    {
     "ename": "ValueError",
     "evalue": "x and y must have same first dimension, but have shapes (50,) and (25,)",
     "output_type": "error",
     "traceback": [
      "\u001b[1;31m---------------------------------------------------------------------------\u001b[0m",
      "\u001b[1;31mValueError\u001b[0m                                Traceback (most recent call last)",
      "\u001b[1;32m<ipython-input-12-7646587057ae>\u001b[0m in \u001b[0;36m<module>\u001b[1;34m()\u001b[0m\n\u001b[0;32m      6\u001b[0m     \u001b[0mscores_10fold\u001b[0m\u001b[1;33m.\u001b[0m\u001b[0mappend\u001b[0m\u001b[1;33m(\u001b[0m\u001b[0mnp\u001b[0m\u001b[1;33m.\u001b[0m\u001b[0mmean\u001b[0m\u001b[1;33m(\u001b[0m\u001b[0mcross_val_score\u001b[0m\u001b[1;33m(\u001b[0m\u001b[0mclf\u001b[0m\u001b[1;33m,\u001b[0m\u001b[0mX_10percent\u001b[0m\u001b[1;33m,\u001b[0m\u001b[0my_10percent\u001b[0m\u001b[1;33m,\u001b[0m\u001b[0mcv\u001b[0m\u001b[1;33m=\u001b[0m\u001b[1;36m10\u001b[0m\u001b[1;33m)\u001b[0m\u001b[1;33m)\u001b[0m\u001b[1;33m)\u001b[0m\u001b[1;33m\u001b[0m\u001b[0m\n\u001b[0;32m      7\u001b[0m \u001b[1;31m#Plot the accuracy in terms of the number of neighbors\u001b[0m\u001b[1;33m\u001b[0m\u001b[1;33m\u001b[0m\u001b[0m\n\u001b[1;32m----> 8\u001b[1;33m \u001b[0mplt\u001b[0m\u001b[1;33m.\u001b[0m\u001b[0mplot\u001b[0m\u001b[1;33m(\u001b[0m\u001b[0mnp\u001b[0m\u001b[1;33m.\u001b[0m\u001b[0marray\u001b[0m\u001b[1;33m(\u001b[0m\u001b[0mrange\u001b[0m\u001b[1;33m(\u001b[0m\u001b[0mmax_neighbors\u001b[0m\u001b[1;33m)\u001b[0m\u001b[1;33m)\u001b[0m\u001b[1;33m+\u001b[0m\u001b[1;36m1\u001b[0m\u001b[1;33m,\u001b[0m\u001b[0mscores_10fold\u001b[0m\u001b[1;33m)\u001b[0m\u001b[1;33m\u001b[0m\u001b[0m\n\u001b[0m\u001b[0;32m      9\u001b[0m \u001b[0mplt\u001b[0m\u001b[1;33m.\u001b[0m\u001b[0mtitle\u001b[0m\u001b[1;33m(\u001b[0m\u001b[1;34m\"Accuracy as a function of the number of neighbors k: 10fold\"\u001b[0m\u001b[1;33m)\u001b[0m\u001b[1;33m\u001b[0m\u001b[0m\n\u001b[0;32m     10\u001b[0m \u001b[0mplt\u001b[0m\u001b[1;33m.\u001b[0m\u001b[0mylabel\u001b[0m\u001b[1;33m(\u001b[0m\u001b[1;34m\"Accuracy\"\u001b[0m\u001b[1;33m)\u001b[0m\u001b[1;33m\u001b[0m\u001b[0m\n",
      "\u001b[1;32mC:\\Anaconda3\\lib\\site-packages\\matplotlib\\pyplot.py\u001b[0m in \u001b[0;36mplot\u001b[1;34m(*args, **kwargs)\u001b[0m\n\u001b[0;32m   3316\u001b[0m                       mplDeprecation)\n\u001b[0;32m   3317\u001b[0m     \u001b[1;32mtry\u001b[0m\u001b[1;33m:\u001b[0m\u001b[1;33m\u001b[0m\u001b[0m\n\u001b[1;32m-> 3318\u001b[1;33m         \u001b[0mret\u001b[0m \u001b[1;33m=\u001b[0m \u001b[0max\u001b[0m\u001b[1;33m.\u001b[0m\u001b[0mplot\u001b[0m\u001b[1;33m(\u001b[0m\u001b[1;33m*\u001b[0m\u001b[0margs\u001b[0m\u001b[1;33m,\u001b[0m \u001b[1;33m**\u001b[0m\u001b[0mkwargs\u001b[0m\u001b[1;33m)\u001b[0m\u001b[1;33m\u001b[0m\u001b[0m\n\u001b[0m\u001b[0;32m   3319\u001b[0m     \u001b[1;32mfinally\u001b[0m\u001b[1;33m:\u001b[0m\u001b[1;33m\u001b[0m\u001b[0m\n\u001b[0;32m   3320\u001b[0m         \u001b[0max\u001b[0m\u001b[1;33m.\u001b[0m\u001b[0m_hold\u001b[0m \u001b[1;33m=\u001b[0m \u001b[0mwashold\u001b[0m\u001b[1;33m\u001b[0m\u001b[0m\n",
      "\u001b[1;32mC:\\Anaconda3\\lib\\site-packages\\matplotlib\\__init__.py\u001b[0m in \u001b[0;36minner\u001b[1;34m(ax, *args, **kwargs)\u001b[0m\n\u001b[0;32m   1889\u001b[0m                     warnings.warn(msg % (label_namer, func.__name__),\n\u001b[0;32m   1890\u001b[0m                                   RuntimeWarning, stacklevel=2)\n\u001b[1;32m-> 1891\u001b[1;33m             \u001b[1;32mreturn\u001b[0m \u001b[0mfunc\u001b[0m\u001b[1;33m(\u001b[0m\u001b[0max\u001b[0m\u001b[1;33m,\u001b[0m \u001b[1;33m*\u001b[0m\u001b[0margs\u001b[0m\u001b[1;33m,\u001b[0m \u001b[1;33m**\u001b[0m\u001b[0mkwargs\u001b[0m\u001b[1;33m)\u001b[0m\u001b[1;33m\u001b[0m\u001b[0m\n\u001b[0m\u001b[0;32m   1892\u001b[0m         \u001b[0mpre_doc\u001b[0m \u001b[1;33m=\u001b[0m \u001b[0minner\u001b[0m\u001b[1;33m.\u001b[0m\u001b[0m__doc__\u001b[0m\u001b[1;33m\u001b[0m\u001b[0m\n\u001b[0;32m   1893\u001b[0m         \u001b[1;32mif\u001b[0m \u001b[0mpre_doc\u001b[0m \u001b[1;32mis\u001b[0m \u001b[1;32mNone\u001b[0m\u001b[1;33m:\u001b[0m\u001b[1;33m\u001b[0m\u001b[0m\n",
      "\u001b[1;32mC:\\Anaconda3\\lib\\site-packages\\matplotlib\\axes\\_axes.py\u001b[0m in \u001b[0;36mplot\u001b[1;34m(self, *args, **kwargs)\u001b[0m\n\u001b[0;32m   1404\u001b[0m         \u001b[0mkwargs\u001b[0m \u001b[1;33m=\u001b[0m \u001b[0mcbook\u001b[0m\u001b[1;33m.\u001b[0m\u001b[0mnormalize_kwargs\u001b[0m\u001b[1;33m(\u001b[0m\u001b[0mkwargs\u001b[0m\u001b[1;33m,\u001b[0m \u001b[0m_alias_map\u001b[0m\u001b[1;33m)\u001b[0m\u001b[1;33m\u001b[0m\u001b[0m\n\u001b[0;32m   1405\u001b[0m \u001b[1;33m\u001b[0m\u001b[0m\n\u001b[1;32m-> 1406\u001b[1;33m         \u001b[1;32mfor\u001b[0m \u001b[0mline\u001b[0m \u001b[1;32min\u001b[0m \u001b[0mself\u001b[0m\u001b[1;33m.\u001b[0m\u001b[0m_get_lines\u001b[0m\u001b[1;33m(\u001b[0m\u001b[1;33m*\u001b[0m\u001b[0margs\u001b[0m\u001b[1;33m,\u001b[0m \u001b[1;33m**\u001b[0m\u001b[0mkwargs\u001b[0m\u001b[1;33m)\u001b[0m\u001b[1;33m:\u001b[0m\u001b[1;33m\u001b[0m\u001b[0m\n\u001b[0m\u001b[0;32m   1407\u001b[0m             \u001b[0mself\u001b[0m\u001b[1;33m.\u001b[0m\u001b[0madd_line\u001b[0m\u001b[1;33m(\u001b[0m\u001b[0mline\u001b[0m\u001b[1;33m)\u001b[0m\u001b[1;33m\u001b[0m\u001b[0m\n\u001b[0;32m   1408\u001b[0m             \u001b[0mlines\u001b[0m\u001b[1;33m.\u001b[0m\u001b[0mappend\u001b[0m\u001b[1;33m(\u001b[0m\u001b[0mline\u001b[0m\u001b[1;33m)\u001b[0m\u001b[1;33m\u001b[0m\u001b[0m\n",
      "\u001b[1;32mC:\\Anaconda3\\lib\\site-packages\\matplotlib\\axes\\_base.py\u001b[0m in \u001b[0;36m_grab_next_args\u001b[1;34m(self, *args, **kwargs)\u001b[0m\n\u001b[0;32m    405\u001b[0m                 \u001b[1;32mreturn\u001b[0m\u001b[1;33m\u001b[0m\u001b[0m\n\u001b[0;32m    406\u001b[0m             \u001b[1;32mif\u001b[0m \u001b[0mlen\u001b[0m\u001b[1;33m(\u001b[0m\u001b[0mremaining\u001b[0m\u001b[1;33m)\u001b[0m \u001b[1;33m<=\u001b[0m \u001b[1;36m3\u001b[0m\u001b[1;33m:\u001b[0m\u001b[1;33m\u001b[0m\u001b[0m\n\u001b[1;32m--> 407\u001b[1;33m                 \u001b[1;32mfor\u001b[0m \u001b[0mseg\u001b[0m \u001b[1;32min\u001b[0m \u001b[0mself\u001b[0m\u001b[1;33m.\u001b[0m\u001b[0m_plot_args\u001b[0m\u001b[1;33m(\u001b[0m\u001b[0mremaining\u001b[0m\u001b[1;33m,\u001b[0m \u001b[0mkwargs\u001b[0m\u001b[1;33m)\u001b[0m\u001b[1;33m:\u001b[0m\u001b[1;33m\u001b[0m\u001b[0m\n\u001b[0m\u001b[0;32m    408\u001b[0m                     \u001b[1;32myield\u001b[0m \u001b[0mseg\u001b[0m\u001b[1;33m\u001b[0m\u001b[0m\n\u001b[0;32m    409\u001b[0m                 \u001b[1;32mreturn\u001b[0m\u001b[1;33m\u001b[0m\u001b[0m\n",
      "\u001b[1;32mC:\\Anaconda3\\lib\\site-packages\\matplotlib\\axes\\_base.py\u001b[0m in \u001b[0;36m_plot_args\u001b[1;34m(self, tup, kwargs)\u001b[0m\n\u001b[0;32m    383\u001b[0m             \u001b[0mx\u001b[0m\u001b[1;33m,\u001b[0m \u001b[0my\u001b[0m \u001b[1;33m=\u001b[0m \u001b[0mindex_of\u001b[0m\u001b[1;33m(\u001b[0m\u001b[0mtup\u001b[0m\u001b[1;33m[\u001b[0m\u001b[1;33m-\u001b[0m\u001b[1;36m1\u001b[0m\u001b[1;33m]\u001b[0m\u001b[1;33m)\u001b[0m\u001b[1;33m\u001b[0m\u001b[0m\n\u001b[0;32m    384\u001b[0m \u001b[1;33m\u001b[0m\u001b[0m\n\u001b[1;32m--> 385\u001b[1;33m         \u001b[0mx\u001b[0m\u001b[1;33m,\u001b[0m \u001b[0my\u001b[0m \u001b[1;33m=\u001b[0m \u001b[0mself\u001b[0m\u001b[1;33m.\u001b[0m\u001b[0m_xy_from_xy\u001b[0m\u001b[1;33m(\u001b[0m\u001b[0mx\u001b[0m\u001b[1;33m,\u001b[0m \u001b[0my\u001b[0m\u001b[1;33m)\u001b[0m\u001b[1;33m\u001b[0m\u001b[0m\n\u001b[0m\u001b[0;32m    386\u001b[0m \u001b[1;33m\u001b[0m\u001b[0m\n\u001b[0;32m    387\u001b[0m         \u001b[1;32mif\u001b[0m \u001b[0mself\u001b[0m\u001b[1;33m.\u001b[0m\u001b[0mcommand\u001b[0m \u001b[1;33m==\u001b[0m \u001b[1;34m'plot'\u001b[0m\u001b[1;33m:\u001b[0m\u001b[1;33m\u001b[0m\u001b[0m\n",
      "\u001b[1;32mC:\\Anaconda3\\lib\\site-packages\\matplotlib\\axes\\_base.py\u001b[0m in \u001b[0;36m_xy_from_xy\u001b[1;34m(self, x, y)\u001b[0m\n\u001b[0;32m    242\u001b[0m         \u001b[1;32mif\u001b[0m \u001b[0mx\u001b[0m\u001b[1;33m.\u001b[0m\u001b[0mshape\u001b[0m\u001b[1;33m[\u001b[0m\u001b[1;36m0\u001b[0m\u001b[1;33m]\u001b[0m \u001b[1;33m!=\u001b[0m \u001b[0my\u001b[0m\u001b[1;33m.\u001b[0m\u001b[0mshape\u001b[0m\u001b[1;33m[\u001b[0m\u001b[1;36m0\u001b[0m\u001b[1;33m]\u001b[0m\u001b[1;33m:\u001b[0m\u001b[1;33m\u001b[0m\u001b[0m\n\u001b[0;32m    243\u001b[0m             raise ValueError(\"x and y must have same first dimension, but \"\n\u001b[1;32m--> 244\u001b[1;33m                              \"have shapes {} and {}\".format(x.shape, y.shape))\n\u001b[0m\u001b[0;32m    245\u001b[0m         \u001b[1;32mif\u001b[0m \u001b[0mx\u001b[0m\u001b[1;33m.\u001b[0m\u001b[0mndim\u001b[0m \u001b[1;33m>\u001b[0m \u001b[1;36m2\u001b[0m \u001b[1;32mor\u001b[0m \u001b[0my\u001b[0m\u001b[1;33m.\u001b[0m\u001b[0mndim\u001b[0m \u001b[1;33m>\u001b[0m \u001b[1;36m2\u001b[0m\u001b[1;33m:\u001b[0m\u001b[1;33m\u001b[0m\u001b[0m\n\u001b[0;32m    246\u001b[0m             raise ValueError(\"x and y can be no greater than 2-D, but have \"\n",
      "\u001b[1;31mValueError\u001b[0m: x and y must have same first dimension, but have shapes (50,) and (25,)"
     ]
    },
    {
     "data": {
      "application/pdf": "[encoded data removed]",
      "image/png": "[encoded data removed]",
      "text/plain": [
       "<matplotlib.figure.Figure at 0x1e202174cc0>"
      ]
     },
     "metadata": {},
     "output_type": "display_data"
    }
   ],
   "source": [
    "from sklearn.model_selection import cross_val_score\n",
    "scores_10fold = [];#Where we score the values\n",
    "max_neighbors = 50;#Maximum number of neighbors\n",
    "for k in np.arange(1,max_neighbors,2): #Odd number of neighbors\n",
    "    clf=KNeighborsClassifier(n_neighbors=k+1)\n",
    "    scores_10fold.append(np.mean(cross_val_score(clf,X_10percent,y_10percent,cv=10)))\n",
    "\n",
    "\n"
   ]
  },
  {
   "cell_type": "code",
   "execution_count": 21,
   "metadata": {
    "collapsed": false
   },
   "outputs": [
    {
     "name": "stdout",
     "output_type": "stream",
     "text": [
      "[0.92657830473333846, 0.93513995938559868, 0.93500139713127994, 0.9321421441161114, 0.93128518817132888, 0.92928271394880435, 0.92585463394067735, 0.92399888042048972, 0.92256475638857649, 0.92056612464131793, 0.91812729050216801, 0.91527148507755596, 0.91398633618221847, 0.910552995204301, 0.9102699093201132, 0.90883499047051364, 0.90755212353073278, 0.90555515253907848, 0.9039822630009503, 0.90184341709235727, 0.89913519046032753, 0.8985664182876949, 0.89671105945755725, 0.89656675188087187, 0.89413649991864452]\n"
     ]
    }
   ],
   "source": [
    "print(scores_10fold)"
   ]
  },
  {
   "cell_type": "code",
   "execution_count": 24,
   "metadata": {
    "collapsed": false
   },
   "outputs": [
    {
     "data": {
      "text/plain": [
       "[<matplotlib.lines.Line2D at 0x1e204a085c0>]"
      ]
     },
     "execution_count": 24,
     "metadata": {},
     "output_type": "execute_result"
    },
    {
     "data": {
      "text/plain": [
       "<matplotlib.text.Text at 0x1e2049d7b00>"
      ]
     },
     "execution_count": 24,
     "metadata": {},
     "output_type": "execute_result"
    },
    {
     "data": {
      "text/plain": [
       "<matplotlib.text.Text at 0x1e20241dcc0>"
      ]
     },
     "execution_count": 24,
     "metadata": {},
     "output_type": "execute_result"
    },
    {
     "data": {
      "text/plain": [
       "<matplotlib.text.Text at 0x1e20247ec18>"
      ]
     },
     "execution_count": 24,
     "metadata": {},
     "output_type": "execute_result"
    },
    {
     "data": {
      "application/pdf": "[encoded data removed]",
      "image/png": "[encoded data removed]",
      "text/plain": [
       "<matplotlib.figure.Figure at 0x1e212140c88>"
      ]
     },
     "metadata": {},
     "output_type": "display_data"
    }
   ],
   "source": [
    "#Plot the accuracy in terms of the number of neighbors    \n",
    "plt.plot(np.arange(1,max_neighbors,2)+1,scores_10fold)\n",
    "plt.title(\"Accuracy as a function of the number of neighbors k: 10fold\")\n",
    "plt.ylabel(\"Accuracy\")\n",
    "plt.xlabel(\"Number of neighbors k\")\n",
    "plt.grid()"
   ]
  },
  {
   "cell_type": "markdown",
   "metadata": {},
   "source": [
    "We notice an increase in the accuracy of the method depending on the number of neighbors. For 3 neighbors we get our maximum accuracy of about 93.5%."
   ]
  },
  {
   "cell_type": "markdown",
   "metadata": {},
   "source": [
    "We will repeat this process but now for 100 bootstraps. We will use the ShuffleSplit to obtain the bootstraps by dividing the data into 66% train and 34% test."
   ]
  },
  {
   "cell_type": "code",
   "execution_count": null,
   "metadata": {
    "collapsed": false
   },
   "outputs": [],
   "source": [
    "from sklearn.model_selection import ShuffleSplit\n",
    "scores_bootstrap = [];\n",
    "max_neighbors = 50;\n",
    "shuffle_split = ShuffleSplit(test_size=.66, train_size=.34, n_splits=100)\n",
    "for k in np.arange(1,max_neighbors,2):\n",
    "    clf=KNeighborsClassifier(n_neighbors=k+1)\n",
    "    scores_bootstrap.append(np.mean(cross_val_score(clf,X_10percent,y_10percent,cv=shuffle_split)))\n",
    "    \n",
    "plt.plot(np.arange(1,max_neighbors,2)+1,scores_bootstrap)\n",
    "plt.title(\"Accuracy as a function of the number of neighbors k: Bootstrapping\")\n",
    "plt.ylabel(\"Accuracy\")\n",
    "plt.xlabel(\"Number of neighbors k\")\n",
    "plt.grid()"
   ]
  },
  {
   "cell_type": "markdown",
   "metadata": {},
   "source": [
    "Now we will compare the 10 fold cross validation with our bootstrapping cross validation into one same plot."
   ]
  },
  {
   "cell_type": "code",
   "execution_count": null,
   "metadata": {
    "collapsed": false
   },
   "outputs": [],
   "source": [
    "# Plotting both sampling methods together. \n",
    "plt.plot(np.arange(1,max_neighbors,2)+1,scores_10fold,label=\"10fold\")    \n",
    "plt.plot(np.arange(1,max_neighbors,2)+1,scores_bootstrap,label=\"Bootstrapping\")\n",
    "plt.title(\"Accuracy as a function of the number of neighbors k\")\n",
    "plt.ylabel(\"Accuracy\")\n",
    "plt.xlabel(\"Number of neighbors k\")\n",
    "plt.legend(loc=\"best\")\n",
    "plt.grid()"
   ]
  },
  {
   "cell_type": "markdown",
   "metadata": {},
   "source": [
    "We observe a lower accuracy of the boostrapped data sets. We think that this is due to the fact that when carrying out the resampling for bootstrapping only 66% of the data is included on average after repeating this process. On the other hand, the kfold method includes all the data which results in a better performance on average.\n",
    "\n",
    "The accuracy of both methods increase for 3 neighbors and then decreases with the number of neighbors again. When we increase this number, we tend to compare more with the whole data set which results in the disipation of the effect of the local information. The best choice for the Kneighbors is to choose 3 neighbor only since in that way we are just taking into account local information resulting in small conflicts. Nevertheless as we have already seen, close data points (similar characteristics) can be misclassified.  "
   ]
  },
  {
   "cell_type": "markdown",
   "metadata": {},
   "source": [
    "### Linear models"
   ]
  },
  {
   "cell_type": "markdown",
   "metadata": {},
   "source": [
    "- Compare kNN against the linear classification models that we have covered in the course (logistic regression and linear SVMs).\n",
    "    - First use the default hyperparameter settings.\n",
    "    - Next, optimize for the degree of regularization ($C$) and choice of penalty (L1/L2). Again, plot the accuracy while increasing the degree of regularization for different penalties. Interpret the results. \n",
    "    - Report is the optimal performance. Can you get better results than kNN?"
   ]
  },
  {
   "cell_type": "code",
   "execution_count": null,
   "metadata": {
    "collapsed": true
   },
   "outputs": [],
   "source": [
    "from sklearn.linear_model import LinearRegression\n",
    "from sklearn.model_selection import train_test_split\n",
    "from sklearn.neighbors import KNeighborsClassifier\n",
    "from sklearn.linear_model import LogisticRegression\n",
    "from sklearn.svm import LinearSVC\n",
    "percentage = 0.1 #Percentage of test data\n",
    "#We take only 10% of the data and then we do our normal split\n",
    "X_10percent, dummy, y_10percent, dummy = train_test_split(X, y,train_size=percentage , random_state=0)\n",
    "X_train, X_test, y_train, y_test = train_test_split(X_train, y_train , random_state=0)\n"
   ]
  },
  {
   "cell_type": "markdown",
   "metadata": {},
   "source": [
    "First we will compare the kNN model against the logistic regression and linear support vector machines (SVM) with the default hyperparameter settings."
   ]
  },
  {
   "cell_type": "code",
   "execution_count": null,
   "metadata": {
    "collapsed": false
   },
   "outputs": [],
   "source": [
    "# K neighbors\n",
    "clf = KNeighborsClassifier().fit(X_train,y_train)\n",
    "\n",
    "# Logistic regression\n",
    "logreg = LogisticRegression().fit(X_train,y_train)\n",
    "\n",
    "# Support vector machines\n",
    "linear_svc = LinearSVC().fit(X_train,y_train)\n",
    "print(\"The score for the kNeighbors is: \",clf.score(X_test,y_test))\n",
    "print(\"The score for the logistic regression is: \",logreg.score(X_test,y_test))\n",
    "print(\"The score for the linear SVM is: \",linear_svc.score(X_test,y_test))"
   ]
  },
  {
   "cell_type": "markdown",
   "metadata": {},
   "source": [
    "The score for the kNeighbors is higher than the one for its linear counterparts. Now we will gather more information from the optimization of the parameters in the linear classification models to improve their accuracy."
   ]
  },
  {
   "cell_type": "markdown",
   "metadata": {},
   "source": [
    "Now, we will optimize the linear classification models of logistic regression and SVM. We will check different orders of magnitud of the degree of regularization $C$. We will be using values of $C$ from $1\\times10^{-4}$ to $1\\times10^{4}$. We will be choosing between two types of penalties: L1 and L2 which add an extra term to the least squares cost function that tunes the characteristics of the weights in the model.\n",
    "\n",
    "**L1 regularization**\n",
    "\n",
    "$\\lambda \\sum_{i=1}^{k}|w_i|$\n",
    "\n",
    "\n",
    "**L2 regularization**\n",
    "\n",
    "$\\lambda \\sum_{i=1}^{k} w_i^2$\n",
    "\n",
    "We will plot the accuracy of the linear models when applied to the test data and compare it with the kNeighbors method."
   ]
  },
  {
   "cell_type": "code",
   "execution_count": null,
   "metadata": {
    "collapsed": false
   },
   "outputs": [],
   "source": [
    "# We are going to store the accuracy of the logistic regression and the SVC in terms of C\n",
    "logistic = [];\n",
    "svc = [];\n",
    "\n",
    "# Values that C takes\n",
    "C_values =  [0.0001, 0.001, 0.01, 0.1, 1, 10, 100, 1000, 10000]\n",
    "\n",
    "#Regularization\n",
    "penalty_values = ['l1','l2']; \n",
    "\n",
    "#Loop in the C values and in the regularization.\n",
    "for penalty in penalty_values:\n",
    "    for C in C_values: \n",
    "        logreg = LogisticRegression(C=C,penalty=penalty).fit(X_train,y_train)\n",
    "        logistic.append(logreg.score(X_test,y_test))\n",
    "        linear_svc = LinearSVC(C=C,penalty=penalty,dual=False).fit(X_train,y_train)\n",
    "        svc.append(linear_svc.score(X_test,y_test))    "
   ]
  },
  {
   "cell_type": "code",
   "execution_count": null,
   "metadata": {
    "collapsed": false
   },
   "outputs": [],
   "source": [
    "plt.plot(C_values,logistic[:9],'bx-',label = 'Logistic regression L1')\n",
    "plt.plot(C_values,logistic[9:],'rx-', label = 'Logistic regression L2')\n",
    "plt.plot(C_values,svc[:9],'gx-', label = 'SVC L1')\n",
    "plt.plot(C_values,svc[9:],'mx-', label = 'SVC L2')\n",
    "plt.title(\"Accuracy of logistic regression in terms of C\")\n",
    "plt.ylabel(\"Accuracy\");\n",
    "plt.xlabel(\"log(C)\");\n",
    "plt.legend();\n",
    "plt.xscale('log');\n",
    "plt.grid() \n"
   ]
  },
  {
   "cell_type": "markdown",
   "metadata": {},
   "source": [
    "The accuracy tends to increase for the L1 regularization on the range between the order -4 and -2 and then decrease with the value of C after the order -2 for both the logistic and SVC models. For the L2 regularization in the SVC and in the logistic regression the accuracy decreases with the value of C. The accuracy of the SVC and the logistic regression have a similar behavior but sometimes one of them is higher than the other. "
   ]
  },
  {
   "cell_type": "markdown",
   "metadata": {},
   "source": [
    "**Optimum values**"
   ]
  },
  {
   "cell_type": "code",
   "execution_count": null,
   "metadata": {
    "collapsed": false
   },
   "outputs": [],
   "source": [
    "a,max_log_L1 = max(enumerate(logistic[:9]), key = lambda t: t[1]) \n",
    "b,max_log_L2 = max(enumerate(logistic[9:]), key = lambda t: t[1])\n",
    "C_log_L1 = C_values[a]\n",
    "C_log_L2 = C_values[b]\n",
    "print(\"The maximum accuracy for the logistic model with L1 is given by\",max_log_L1, \"\\nwith C=\",C_log_L1,\"\\n\\n\")\n",
    "print(\"The maximum accuracy for the logistic model with L2 is given by\", max_log_L2, \"\\nwith C=\",C_log_L2,\"\\n\")\n",
    "a,max_SVC_L1 = max(enumerate(svc[:9]), key = lambda t: t[1]) \n",
    "b,max_SVC_L2 = max(enumerate(svc[9:]), key = lambda t: t[1])\n",
    "C_SVC_L1 = C_values[a]\n",
    "C_SVC_L2 = C_values[b]\n",
    "print(\"The maximum accuracy for the SVC model with L1 is given by\",max_SVC_L1, \"\\nwith C=\",C_SVC_L1,\"\\n\\n\")\n",
    "print(\"The maximum accuracy for the SVC model with L2 is given by\", max_SVC_L2, \"\\nwith C=\",C_SVC_L2,\"\\n\")"
   ]
  },
  {
   "cell_type": "markdown",
   "metadata": {},
   "source": [
    "We can see that for the logistic model we get an optimum value for both L1 and L2 regularization with \n",
    "C=0.01 and C=0.0001 respectively and an accuracy of about 87.6%.\n",
    "For the SVC model we get an optimum value for L1 regularization with C=0.001 and an accuracy of 89.2%"
   ]
  },
  {
   "cell_type": "markdown",
   "metadata": {},
   "source": [
    "We recall that the maximum accuracy for our Kneighbors was of about 93.5% which we still couldn't achieve in this range of parameters. Nevertheless the optimal performance was of the SVC model with the parameter of order -3 and with an accuracy of about 89%"
   ]
  },
  {
   "cell_type": "markdown",
   "metadata": {},
   "source": [
    "## Model selection (4 points (2+2))\n",
    "Study how RandomForest hyperparameters interact on the Ionosphere dataset (OpenML ID 59).\n",
    "\n",
    "- Optimize a RandomForest, varying both $n\\_estimators$ and $max\\_features$ at the same time. Use a nested cross-validation and a grid search (or random search) over the possible values, and measure the AUC. Explore how fine-grained this grid/random search can be, given your computational resources. What is the optimal AUC performance you find?\n",
    "- Again, vary both hyperparameters, but this time use a grid search and visualize the results as a plot (heatmap) $n\\_estimators \\times max\\_features \\rightarrow AUC$ with AUC visualized as the color of the data point. Try to make the grid as fine as possible. Interpret the results. Can you explain your observations? What did you learn about tuning RandomForests?\n",
    "\n",
    "Hint: Running this experiment can take a while, so start early and use a feasible grid/random search. Start with a coarse grid or few random search iterations.\n",
    "Hint: Use a log scale (1,2,4,8,16,...) for $n\\_estimators$. Vary $max\\_features$ linearly between 1 and the total number of features. Note that, if you give $max\\_features$ a float value, it will use it as [the percentage of the total number of features](http://scikit-learn.org/stable/modules/generated/sklearn.ensemble.RandomForestClassifier.html).\n"
   ]
  },
  {
   "cell_type": "code",
   "execution_count": null,
   "metadata": {
    "collapsed": true
   },
   "outputs": [],
   "source": [
    "ionosphere = oml.datasets.get_dataset(59) # Download Ionosphere data\n",
    "X, y = ionosphere.get_data(target=ionosphere.default_target_attribute); # Get the predictors X and the labels y"
   ]
  },
  {
   "cell_type": "markdown",
   "metadata": {},
   "source": [
    "## Decision tree heuristics (1 point)\n",
    "Consider the toy training set created below. It predicts whether your date agrees to go out with you depending on the weather.\n",
    "\n",
    "Learn a decision tree:\n",
    "\n",
    "- Implement functions to calculate entropy and information gain\n",
    "- What is the class entropy for the entire dataset? What is the information gain when you split the data using the *Water* feature?\n",
    "- Implement a basic decision tree:\n",
    "    - Select a feature to split on according to its information gain. If multiple features are equally good, select the leftmost one.\n",
    "    - Split the data and repeat until the tree is complete.\n",
    "    - Print out the results (nodes and splits).\n",
    "- Now train a scikit-learn decision tree on the same data. Do you get the same result? Explain."
   ]
  },
  {
   "cell_type": "code",
   "execution_count": null,
   "metadata": {
    "collapsed": false
   },
   "outputs": [],
   "source": [
    "df = pd.DataFrame({\"Sky\":['sunny','sunny','rainy','sunny','sunny'],\n",
    "                   \"AirTemp\":['warm','warm','warm','cold','warm'],\n",
    "                   \"Humidity\":['normal','high','high','high','normal'],\n",
    "                   \"Wind\":['strong','strong','strong','strong','weak'],\n",
    "                   \"Water\":['warm','warm','cool','warm','warm'],\n",
    "                   \"Forecast\":['same','same','change','change','same'],\n",
    "                   \"Date?\":['yes','yes','no','yes','no']\n",
    "                   });\n",
    "df = df[['Sky', 'AirTemp', 'Humidity', 'Wind', 'Water', 'Forecast', 'Date?']] # Fix column ordering\n",
    "df # print"
   ]
  },
  {
   "cell_type": "markdown",
   "metadata": {},
   "source": [
    "First we will complete the functions for the entropy and the information gain. These functions are given by the following formula:\n",
    "\n",
    "** Entropy ** \n",
    "\n",
    "$$ E(X) = -\\sum_{k=1}^K \\hat{p}_k \\log_{2}\\hat{p}_k $$\n",
    "\n",
    "** Information gain ** (After doing a partition)\n",
    "\n",
    "$$ G(X,X_i) = E(X) - \\sum_{v=1}^V \\frac{|X_{i=v}|}{|X_{i}|} E(X_{i=v}) $$\n",
    "\n",
    "where $\\hat{p}_k$ = the relative frequency of class $k$ in the leaf node,  $X$ = the training set, containing $i$ features (variables) $X_i$, $v$ a specific value for $X_i$, $X_{i=v}$ is the set of examples having value $v$ for feature $X_i$: $\\{x \\in X | X_i = v\\}$"
   ]
  },
  {
   "cell_type": "code",
   "execution_count": null,
   "metadata": {
    "collapsed": true
   },
   "outputs": [],
   "source": [
    "# Entropy function\n",
    "def entropy(pos, neg):\n",
    "    # Take care of pos=0 and neg=0\n",
    "    if pos==0 and neg==0:\n",
    "        return 0\n",
    "    # First it takes the rates of the possible categories defined as positives and negatives.\n",
    "    p_1 = pos/(pos+neg)\n",
    "    p_2 = neg/(pos+neg)\n",
    "    # We take into account the possible cases where one of the categories is not present. \n",
    "    # In this way we avoid the NaN errors given by the logarithm_2.\n",
    "    if p_1 == 0:\n",
    "        return -p_2*np.log2(p_2)\n",
    "    elif p_2 == 0:\n",
    "        return -p_1*np.log2(p_1)\n",
    "    else :\n",
    "        return -(p_1*np.log2(p_1)+p_2*np.log2(p_2))\n",
    "    \n",
    "    \n",
    "# Info gain\n",
    "def info_gain(pos1,neg1,pos2,neg2):\n",
    "    # To calculate the information gain first we calculate the total entropy of the data without partitions\n",
    "    total_entropy = entropy(pos1+pos2,neg1+neg2)\n",
    "    # We take care of the cases where one category doesn't have elements in the partition\n",
    "    if pos1+neg1==0 or pos2+neg2==0:\n",
    "        return 0\n",
    "    else:\n",
    "        # Calculation of the important quantities.\n",
    "        total_values = pos1+neg1+pos2+neg2 #Total number of data\n",
    "        entropy1 = entropy(pos1,neg1) #Entropy of the first split \n",
    "        entropy2 = entropy(pos2,neg2) #Entropy of the second split\n",
    "        total1 = pos1+neg1 #Total number of elements in the first split\n",
    "        total2 = pos2+neg2 #Total number of elements in the second split\n",
    "        # Weighted sum is the new entropy of the sistem after the partition\n",
    "        weighted_sum = (total1*entropy1/total_values) + (total2*entropy2/total_values)\n",
    "        # Return the info gain in terms of total entropy and the entropy of the split\n",
    "        return total_entropy-weighted_sum"
   ]
  },
  {
   "cell_type": "markdown",
   "metadata": {},
   "source": [
    "**Entropy of the data**\n",
    "\n",
    "The total entropy is given by the values of the date? feature. Our positive values will be identified by the 'yes' (positive) category and our negative by the 'no' (negative). From the total amount of data that has positive and negative values we calculate the entropy of the system given by:"
   ]
  },
  {
   "cell_type": "code",
   "execution_count": null,
   "metadata": {
    "collapsed": false
   },
   "outputs": [],
   "source": [
    "pos = sum(df.values[:,-1]=='yes')\n",
    "neg = sum(df.values[:,-1]=='no')\n",
    "entropy(pos,neg)"
   ]
  },
  {
   "cell_type": "markdown",
   "metadata": {},
   "source": [
    "The entropy of our system starts at 0.97 since we don't have the same amount of values of 'yes' and 'no' (equal probabilities) which leads to a 1 in the entropy."
   ]
  },
  {
   "cell_type": "markdown",
   "metadata": {},
   "source": [
    "**Information gain for water feature**\n",
    "\n",
    "\n",
    "Now we will see how it affects the information gain when we do a partition on the water feature. First we will have to count the positive and negative values after doing a split conditioned on the water feature. This partition lead in two kinds of positive categories ('cool' & 'yes','warm' & 'yes') and two negatives ('cool' & 'no', 'warm' & 'no'). We use the cardinality of these 4 categories as input values of our information gain function. "
   ]
  },
  {
   "cell_type": "code",
   "execution_count": null,
   "metadata": {
    "collapsed": false
   },
   "outputs": [],
   "source": [
    "pos1 = sum([a and b for a, b in zip(df.values[:,-1]=='yes',df.values[:,-3]=='cool')])\n",
    "pos2 = sum([a and b for a, b in zip(df.values[:,-1]=='yes',df.values[:,-3]=='warm')])\n",
    "neg1 = sum([a and b for a, b in zip(df.values[:,-1]=='no',df.values[:,-3]=='cool')])\n",
    "neg2 = sum([a and b for a, b in zip(df.values[:,-1]=='no',df.values[:,-3]=='warm')])\n",
    "print(\"\\nThe info gain after partitioning the water feature is: \",info_gain(pos1,neg1,pos2,neg2))"
   ]
  },
  {
   "cell_type": "markdown",
   "metadata": {},
   "source": [
    "We can see that after doing the partition the entropy measure decreases which means that the predictability of the data has increased. This means that the entropy after the partition is smaller by an amount equal to the info gain."
   ]
  },
  {
   "cell_type": "markdown",
   "metadata": {},
   "source": [
    "### Implementation of a basic decision tree\n",
    "    - Select a feature to split on according to its information gain. If multiple features are equally good, select the leftmost one.\n",
    "    - Split the data and repeat until the tree is complete.\n",
    "    - Print out the results (nodes and splits).\n",
    "- Now train a scikit-learn decision tree on the same data. Do you get the same result? Explain."
   ]
  },
  {
   "cell_type": "markdown",
   "metadata": {},
   "source": [
    "To implement a basic decision tree first we will define a function that will be useful to us. This function takes a data frame and identifies the feature that has the highest info gain. It gives as an output the index of the column where this increment was found and the actual value of the information gain for this feature."
   ]
  },
  {
   "cell_type": "code",
   "execution_count": null,
   "metadata": {
    "collapsed": true
   },
   "outputs": [],
   "source": [
    "def DataFrameInfoGain(df):\n",
    "    #List where we will append the column number and its information gain.\n",
    "    info_gain_data=[];\n",
    "    #We check each of the columns for the information gain\n",
    "    for i in range(len(df.columns)-1):\n",
    "        #We count the number of positives and negatives in each category after the split of the ith feature\n",
    "        pos1 = sum([a and b for a, b in zip(df.values[:,-1]==\"yes\",df.values[:,i]==df.values[:,i][0])])\n",
    "        pos2 = sum([a and b for a, b in zip(df.values[:,-1]==\"yes\",df.values[:,i]!=df.values[:,i][0])])\n",
    "        neg1 = sum([a and b for a, b in zip(df.values[:,-1]!=\"yes\",df.values[:,i]==df.values[:,i][0])])\n",
    "        neg2 = sum([a and b for a, b in zip(df.values[:,-1]!=\"yes\",df.values[:,i]!=df.values[:,i][0])])\n",
    "        #We store the index of the feature and the information gain. We use our function defined previously.\n",
    "        info_gain_data.append([i,info_gain(pos1,neg1,pos2,neg2)]) \n",
    "    #Return the index of the feature with the maximum information gain and the value of the maximum gain.\n",
    "    return max(info_gain_data, key = lambda t: t[1])  "
   ]
  },
  {
   "cell_type": "markdown",
   "metadata": {},
   "source": [
    "Now we will procede with the implementation of our algorithm. "
   ]
  },
  {
   "cell_type": "code",
   "execution_count": null,
   "metadata": {
    "collapsed": false,
    "scrolled": true
   },
   "outputs": [],
   "source": [
    "partitions=[]; #list with the data frames according to the nodes-features splitted.\n",
    "partitions.append([df])\n",
    "nodes=[\"Original data\",\"Original data\"]; #Nodes that indicate which feature is splitted\n",
    "split=[\"No split yet\"]; #Categories of the nodes\n",
    "leaves=[\"No nodes yet\"]; #Previous value of the nodes\n",
    "leaves2=[\"No nodes\"] #In this list we will save the final values of the leaves at the end of the tree\n",
    "final_count=[] #We will count the number of positives and negatives in each leaf.\n",
    "i = 0; #Dummy variable for counting iterations\n",
    "while 1==1:\n",
    "    joint = []\n",
    "    # We iterate over all the splits of the previous step\n",
    "    for j in range(len(partitions[i])):\n",
    "        cp = partitions[i][j] #We name cp as the current partition of data we are checking.\n",
    "        # We extract the index of the feature with the highest information gain\n",
    "        # with the function DataFrameInfoGain described previously\n",
    "        number_split, entropydifference = DataFrameInfoGain(cp) #Index of feature and max info gain.\n",
    "        if abs(entropydifference)==0: #If the highest information gain is zero we stop our loop.\n",
    "            #If we have reached a leaf (no further splitting) we store its value.\n",
    "            leaves2.append([leaves[i],split[i][j]])\n",
    "            #We add the total number of yes and no for the leaf\n",
    "            final_count.append(['Yes',sum(cp['Date?']=='yes'),'No' ,sum(cp['Date?']=='no')])\n",
    "            #We move on to the next branch\n",
    "            print(\"Found a leaf: Next branch\")\n",
    "            continue\n",
    "            \n",
    "        # We extract the string with the feature of the highest info gain\n",
    "        feature_split =cp.columns[DataFrameInfoGain(cp)[0]]\n",
    "        \n",
    "        # We define the partition of our feature and split the data according to this feature\n",
    "        first_partition = cp.ix[cp[feature_split]==cp.values[:,number_split][0]]\n",
    "        second_partition = cp.ix[cp[feature_split]!=cp.values[:,number_split][0]]\n",
    "        \n",
    "        # We store the unique values of the feature that we have splitted in the correct order\n",
    "        split.append(df[feature_split].unique())\n",
    "        \n",
    "        # We delete the feature chosen from the partitions to avoid choosing it again in the next steps\n",
    "        del first_partition[feature_split]\n",
    "        del second_partition[feature_split]\n",
    "        \n",
    "        leaves.append(split[i][j])\n",
    "        # Storing the two partitions of the data. If the feature can't be splitted we don't append \n",
    "        # a second partition\n",
    "        \n",
    "        if len(first_partition)!=0:\n",
    "            joint.append(first_partition)\n",
    "        if len(second_partition)!=0:\n",
    "            joint.append(second_partition)\n",
    "    # We store the feature that we have just splitted as a node.\n",
    "    nodes.append(feature_split)\n",
    "    # We store the new partitions of the data.\n",
    "    partitions.append(joint)\n",
    "    i = i+1; #Increase dummy variable.\n",
    "    # If the partition has not increased in size, then we stop. We have reached our maximum depth.\n",
    "    total_entropy=0; \n",
    "    #We stop our iterations if there are no further partitions. (The new partition is empty)\n",
    "    if len(partitions[i])==0:\n",
    "        print(\"No more improvement\")\n",
    "        break"
   ]
  },
  {
   "cell_type": "markdown",
   "metadata": {},
   "source": [
    "Now we will output our results into a coherent way.\n",
    "\n",
    "We state the node that we have used for each branch (that is, the feature we have splitted), the possible values that node takes and the split of the data that the new node has caused with respect to the previous node. The output also shows the previous node taken for subsequent partition, this node is called the father of the current node. \n",
    "\n",
    "At the end we see the values of the leaves and the corresponding count of \"yes\" and \"no\" values for each leaf. "
   ]
  },
  {
   "cell_type": "code",
   "execution_count": null,
   "metadata": {
    "collapsed": false
   },
   "outputs": [],
   "source": [
    "# Now we will print all the proper values.\n",
    "for i in range(len(partitions)-1):\n",
    "    print(\"\\n\\n\",\"Node number \", i,\"is given by\",nodes[i+1]) #Printing the nodes-features splitted\n",
    "    print(\"\\n Previous node value (father)\",nodes[i],\"= \",leaves[i]) \n",
    "    print(\"\\n Split of node into: \",split[i])\n",
    "    for j in range(len(partitions[i])):\n",
    "        #Printing the data frames that correspond to the values of each \n",
    "        print(\"\\nFeature \",nodes[i+1], \"with value\", split[i][j]) \n",
    "        print(\"\\n\",partitions[i][j])\n",
    "    print(\"-----------------------\\n\")\n",
    "    \n",
    "print(\"The final leaves are given by:\\n\",leaves2)\n",
    "print(\"\\nWith the respective counts for yes and no\\n\",final_count)"
   ]
  },
  {
   "cell_type": "markdown",
   "metadata": {},
   "source": [
    "Our algorithm has defined the nodes: Sky[sunny,rainy] and Wind[strong,weak]. \n",
    "\n",
    "The final leaves of the tree are given by: [rainy][sunny,strong][sunny,weak]\n",
    "\n",
    "With the corresponding values for their counts. \n",
    "\n",
    "The final counts crearly show that the data has been split into the two date? categories\n",
    "\n",
    "\"Yes\":[sunny,strong] and \"No\"[rainy][sunny,weak]"
   ]
  },
  {
   "cell_type": "markdown",
   "metadata": {},
   "source": [
    "Now we will compare our algorithm with the scikit implementation as follows:"
   ]
  },
  {
   "cell_type": "markdown",
   "metadata": {},
   "source": [
    "To train our tree with the scikit algorithm, first we have to convert our data frame into a numeric array of zeros and ones according to the values of the features. "
   ]
  },
  {
   "cell_type": "code",
   "execution_count": null,
   "metadata": {
    "collapsed": false
   },
   "outputs": [],
   "source": [
    "binary = np.zeros(df.shape)\n",
    "for j in range(len(df.columns)):\n",
    "    for i in range(len(df[df.columns[j]])):\n",
    "        #We take as a 1 the first value that appears in each column\n",
    "        if df[df.columns[j]][i]==df[df.columns[j]][0]: \n",
    "            binary[i][j]=1\n",
    "# We define our target value which is Date?\n",
    "y = binary[:,-1]\n",
    "# We define our training set of features\n",
    "X = binary[:,:-1]\n",
    "print(X,y)"
   ]
  },
  {
   "cell_type": "markdown",
   "metadata": {},
   "source": [
    "We define our tree classifier using the entropy criterion and fit our data."
   ]
  },
  {
   "cell_type": "code",
   "execution_count": null,
   "metadata": {
    "collapsed": false
   },
   "outputs": [],
   "source": [
    "from sklearn import tree\n",
    "clf = tree.DecisionTreeClassifier(criterion=\"entropy\")\n",
    "clf = clf.fit(X, y)\n",
    "tree.export_graphviz(clf,out_file='tree.dot')   "
   ]
  },
  {
   "cell_type": "markdown",
   "metadata": {},
   "source": [
    "Finally we visualize our tree to compare it with our implemented algorithm."
   ]
  },
  {
   "cell_type": "code",
   "execution_count": null,
   "metadata": {
    "collapsed": false
   },
   "outputs": [],
   "source": [
    "from sklearn.tree import export_graphviz\n",
    "export_graphviz(clf, out_file=\"tree.dot\", class_names=[\"yes\", \"no\"], \n",
    "feature_names=df.columns[:-1], impurity=False, filled=True)\n",
    "# Open and display\n",
    "import graphviz\n",
    "with open(\"tree.dot\") as f:\n",
    "    dot_graph = f.read()\n",
    "display(graphviz.Source(dot_graph))"
   ]
  },
  {
   "cell_type": "markdown",
   "metadata": {},
   "source": [
    "In this case we have obtained different nodes and leaves compared to our implementation.\n",
    "\n",
    "**Our implementation**\n",
    "\n",
    "Nodes = Sky[sunny,rainy]Wind[strong,weak]\n",
    "\n",
    "Leaves = [rainy][sunny,strong][sunny,weak]\n",
    "\n",
    "**Scikit**\n",
    "\n",
    "Nodes = Water[warm,cool]Wind[strong,weak]\n",
    "\n",
    "Leaves = [cool][warm,strong][warm,weak]\n",
    "\n",
    "It is different since our implementation depends on the order of the columns of the data frame. If we change the order of our data frame we will get the same result as with scikit. We can see it in the following:"
   ]
  },
  {
   "cell_type": "markdown",
   "metadata": {},
   "source": [
    "**New ordering**"
   ]
  },
  {
   "cell_type": "code",
   "execution_count": null,
   "metadata": {
    "collapsed": false
   },
   "outputs": [],
   "source": [
    "df = pd.DataFrame({\"Sky\":['sunny','sunny','rainy','sunny','sunny'],\n",
    "                   \"AirTemp\":['warm','warm','warm','cold','warm'],\n",
    "                   \"Humidity\":['normal','high','high','high','normal'],\n",
    "                   \"Wind\":['strong','strong','strong','strong','weak'],\n",
    "                   \"Water\":['warm','warm','cool','warm','warm'],\n",
    "                   \"Forecast\":['same','same','change','change','same'],\n",
    "                   \"Date?\":['yes','yes','no','yes','no']\n",
    "                   });\n",
    "df = df[['Water','Wind','Sky', 'AirTemp', 'Humidity',   'Forecast', 'Date?']] # Fix column ordering\n",
    "df # print"
   ]
  },
  {
   "cell_type": "markdown",
   "metadata": {},
   "source": [
    "We have changed the order so the characteristics that scikit identifies are more to the left."
   ]
  },
  {
   "cell_type": "markdown",
   "metadata": {},
   "source": [
    "We repeat the use of our algorithm"
   ]
  },
  {
   "cell_type": "code",
   "execution_count": null,
   "metadata": {
    "collapsed": false
   },
   "outputs": [],
   "source": [
    "partitions=[]; #list with the data frames according to the nodes-features splitted.\n",
    "partitions.append([df])\n",
    "nodes=[\"Original data\",\"Original data\"]; #Nodes that indicate which feature is splitted\n",
    "split=[\"No split yet\"]; #Categories of the nodes\n",
    "leaves=[\"No nodes yet\"]; #Previous value of the nodes\n",
    "leaves2=[\"No nodes\"] #In this list we will save the final values of the leaves at the end of the tree\n",
    "final_count=[] #We will count the number of positives and negatives in each leaf.\n",
    "i = 0; #Dummy variable for counting iterations\n",
    "while 1==1:\n",
    "    joint = []\n",
    "    # We iterate over all the splits of the previous step\n",
    "    for j in range(len(partitions[i])):\n",
    "        cp = partitions[i][j] #We name cp as the current partition of data we are checking.\n",
    "        # We extract the index of the feature with the highest information gain\n",
    "        # with the function DataFrameInfoGain described previously\n",
    "        number_split, entropydifference = DataFrameInfoGain(cp) #Index of feature and max info gain.\n",
    "        if abs(entropydifference)==0: #If the highest information gain is zero we stop our loop.\n",
    "            #If we have reached a leaf (no further splitting) we store its value.\n",
    "            leaves2.append([leaves[i],split[i][j]])\n",
    "            #We add the total number of yes and no for the leaf\n",
    "            final_count.append(['Yes',sum(cp['Date?']=='yes'),'No' ,sum(cp['Date?']=='no')])\n",
    "            #We move on to the next branch\n",
    "            print(\"Found a leaf: Next branch\")\n",
    "            continue\n",
    "            \n",
    "        # We extract the string with the feature of the highest info gain\n",
    "        feature_split =cp.columns[DataFrameInfoGain(cp)[0]]\n",
    "        \n",
    "        # We define the partition of our feature and split the data according to this feature\n",
    "        first_partition = cp.ix[cp[feature_split]==cp.values[:,number_split][0]]\n",
    "        second_partition = cp.ix[cp[feature_split]!=cp.values[:,number_split][0]]\n",
    "        \n",
    "        # We store the unique values of the feature that we have splitted in the correct order\n",
    "        split.append(df[feature_split].unique())\n",
    "        \n",
    "        # We delete the feature chosen from the partitions to avoid choosing it again in the next steps\n",
    "        del first_partition[feature_split]\n",
    "        del second_partition[feature_split]\n",
    "        \n",
    "        leaves.append(split[i][j])\n",
    "        # Storing the two partitions of the data. If the feature can't be splitted we don't append \n",
    "        # a second partition\n",
    "        \n",
    "        if len(first_partition)!=0:\n",
    "            joint.append(first_partition)\n",
    "        if len(second_partition)!=0:\n",
    "            joint.append(second_partition)\n",
    "    # We store the feature that we have just splitted as a node.\n",
    "    nodes.append(feature_split)\n",
    "    # We store the new partitions of the data.\n",
    "    partitions.append(joint)\n",
    "    i = i+1; #Increase dummy variable.\n",
    "    # If the partition has not increased in size, then we stop. We have reached our maximum depth.\n",
    "    total_entropy=0; \n",
    "    #We stop our iterations if there are no further partitions. (The new partition is empty)\n",
    "    if len(partitions[i])==0:\n",
    "        print(\"No more improvement\")\n",
    "        break"
   ]
  },
  {
   "cell_type": "markdown",
   "metadata": {},
   "source": [
    "This time we only print the leaves to avoid extra output."
   ]
  },
  {
   "cell_type": "code",
   "execution_count": null,
   "metadata": {
    "collapsed": false
   },
   "outputs": [],
   "source": [
    "print(\"The final leaves are given by:\\n\",leaves2)\n",
    "print(\"\\nWith the respective counts for yes and no\\n\",final_count)"
   ]
  },
  {
   "cell_type": "markdown",
   "metadata": {},
   "source": [
    "Our final result using this new ordering is identical to the one of scikit. So, both algorithms just differ in how they decide to choose a node when there is a tie in the entropy gain."
   ]
  },
  {
   "cell_type": "markdown",
   "metadata": {},
   "source": [
    "## Random Forests (4 points (1+1+2))\n",
    "Study the effect of the number of trees in a RandomForest on the EEG-eye-state dataset (http://www.openml.org/d/1471). This dataset measures brain activity using 15 sensors, and you need to predict whether the person's eyes are open or closed. \n",
    "\n",
    "* Train a RandomForest classifier on this dataset with an increasing number of trees (on a log scale as above). Plot the Out-Of-Bag error against the number of trees.\n",
    "    - The Out-Of-Bag error is the test error obtained when using bootstrapping, and using the non-drawn data points as the test set. This is what a RandomForest does internally, so you can retrieve it from the classifier. The code below hints on how to do this.\n",
    "* Construct the same plot, but now use 10-fold Cross-validation and error rate instead of the OOB error. Compare the two. What do you learn from this?\n",
    "* Compare the performance of the RandomForest ensemble with that of a single full decision tree. Compute the AUC as well as the bias and variance. Does the bias and variance increase/decrease for the ensemble? Does the number of trees affect the result?\n",
    "\n",
    "Hint: Error rate = 1 - accuracy  \n",
    "Hint: We discussed bias-variance decomposition in class. It is not included in scikit-learn, so you'll need to implement it yourself."
   ]
  },
  {
   "cell_type": "code",
   "execution_count": null,
   "metadata": {
    "collapsed": false
   },
   "outputs": [],
   "source": [
    "eeg = oml.datasets.get_dataset(1471) # Download Ionosphere data\n",
    "X, y = eeg.get_data(target=eeg.default_target_attribute);\n",
    "\n",
    "# Out of bag errors can be retrieved from the RandomForest classifier. You'll need to loop over the number of trees.\n",
    "# http://scikit-learn.org/stable/auto_examples/ensemble/plot_ensemble_oob.html\n",
    "from sklearn import ensemble\n",
    "clf = ensemble.RandomForestClassifier(oob_score=True,)\n",
    "clf.fit(X, y)\n",
    "(1 - clf.oob_score)"
   ]
  },
  {
   "cell_type": "markdown",
   "metadata": {},
   "source": [
    "### Out-of-bag error"
   ]
  },
  {
   "cell_type": "markdown",
   "metadata": {},
   "source": [
    "* Train a RandomForest classifier on this dataset with an increasing number of trees (on a log scale as above). Plot the Out-Of-Bag error against the number of trees.\n",
    "    - The Out-Of-Bag error is the test error obtained when using bootstrapping, and using the non-drawn data points as the test set. This is what a RandomForest does internally, so you can retrieve it from the classifier. The code below hints on how to do this."
   ]
  },
  {
   "cell_type": "markdown",
   "metadata": {},
   "source": [
    "First we will obtain the Out-of-bag error from the Random forest with different numbers of trees in a range of $2^1-2^{10}$. We will retrieve the OOB error from the classifier and plot it against the number of trees used. "
   ]
  },
  {
   "cell_type": "code",
   "execution_count": null,
   "metadata": {
    "collapsed": false
   },
   "outputs": [],
   "source": [
    "from sklearn.ensemble import RandomForestClassifier  \n",
    "from sklearn import ensemble\n",
    "\n",
    "# We define the number of trees that we will be using for our random forest.\n",
    "trees = 2**np.linspace(1,10,10)\n",
    "trees = trees.astype(int)\n",
    "\n",
    "# We define a list where we will be storing the values of our oob score\n",
    "oob = [];\n",
    "\n",
    "for i in trees:\n",
    "    # We define our random forest for n_estimators (trees), train it and extract the oob error.\n",
    "    forest = RandomForestClassifier(n_estimators=i, random_state=2,oob_score=True)\n",
    "    out = forest.fit(X,y)\n",
    "    oob.append(1 - forest.oob_score_)\n",
    "    \n"
   ]
  },
  {
   "cell_type": "markdown",
   "metadata": {},
   "source": [
    "Now we will plot our results."
   ]
  },
  {
   "cell_type": "code",
   "execution_count": null,
   "metadata": {
    "collapsed": false
   },
   "outputs": [],
   "source": [
    "plt.plot(trees, oob, '-rx')\n",
    "plt.xlabel(\"Number of trees\")\n",
    "plt.ylabel(\"OOB Error rate\")\n",
    "plt.title(\"OOB Error rate with respect to the number of trees\")\n",
    "plt.grid()\n",
    "plt.show()"
   ]
  },
  {
   "cell_type": "markdown",
   "metadata": {},
   "source": [
    "From the plot we can notice that the OOB error decreases with the number of trees. This is a natural result since we are averaging the efect of the multiple trees. When we increase the number of trees it results in a more weighted test from the multiple samples taken within the data. \n",
    "\n",
    "**10 fold error**\n",
    "\n",
    "Now we will obtain the error rate from using 10-fold cross validation. The error rate is given by the average of the accuracy of our 10-fold validations created by dividing the data. "
   ]
  },
  {
   "cell_type": "code",
   "execution_count": null,
   "metadata": {
    "collapsed": false
   },
   "outputs": [],
   "source": [
    "from sklearn.model_selection import cross_val_score\n",
    "\n",
    "# Number of trees used.\n",
    "trees = 2**np.linspace(1,10,10)\n",
    "trees = trees.astype(int)\n",
    "\n",
    "# List in which we will store the error rate values. \n",
    "error = [];\n",
    "\n",
    "# Number of folds used in the cross validation.\n",
    "cv = 10;\n",
    "\n",
    "\n",
    "for i in trees: \n",
    "    random_forest = RandomForestClassifier(n_estimators=i, random_state=2,oob_score=False)\n",
    "    scores = cross_val_score(random_forest, X, y, cv=cv)\n",
    "    error.append(1-np.mean(scores))"
   ]
  },
  {
   "cell_type": "markdown",
   "metadata": {},
   "source": [
    "Now we plot the error rate of the 10-fold cross validation of the random forest. "
   ]
  },
  {
   "cell_type": "code",
   "execution_count": null,
   "metadata": {
    "collapsed": false
   },
   "outputs": [],
   "source": [
    "plt.plot(trees,error,'-bx')\n",
    "plt.xlabel(\"Number of trees\")\n",
    "plt.ylabel(\"Error rate\")\n",
    "plt.title(\"Error rate with respect to the number of trees\")\n",
    "plt.legend(loc=\"best\")\n",
    "plt.grid()\n",
    "plt.show()"
   ]
  },
  {
   "cell_type": "markdown",
   "metadata": {},
   "source": [
    "We plot both error rates together to compare the difference between both. "
   ]
  },
  {
   "cell_type": "code",
   "execution_count": null,
   "metadata": {
    "collapsed": false
   },
   "outputs": [],
   "source": [
    "plt.plot(trees,error,'-bx',label=\"Error rate 10-fold\")\n",
    "plt.plot(trees,oob,'-rx',label=\"OOB Error rate\")\n",
    "plt.xlabel(\"n_estimators\")\n",
    "plt.ylabel(\"Error rate\")\n",
    "plt.grid()\n",
    "plt.title(\"Comparison between OOB error rate and cross validation error rate\")\n",
    "plt.legend(loc=\"best\")\n",
    "plt.show()"
   ]
  },
  {
   "cell_type": "markdown",
   "metadata": {},
   "source": [
    "First we need to recall that the random forest takes a bootstrap sample of the data that leaves out about 33-36% of the data. \n",
    "\n",
    "\n",
    "The 10-fold cross validation makes 10 partitions of the data and carries out the random forest learning algorithm with 9 training pieces of data and 1 as a test. It then changes the role of each piece such that each piece is at least once a test data. We obtain 10 accuracy values and then we take an average of them.\n",
    "\n",
    "When using this cross validation in a random forest we are leaving a great quantity of data unprocessed. Take for example one of these folds. 10% of the data is used already as a test and the other 90% is used for training. But from these 90% about 33-36% of the data is not used for the creation of the forest which leaves at least 32.4% of the total data unused in this training. If we are really unlucky it can happen that 32.4% of the data is not used at all in any of our folds. This unused data translates into less training information for our algorithm and into a decrease of the accuracy of our model as we can see from the plots above. \n",
    "\n",
    "In conclusion, in some sense the random forest is doing by itself a kind of cross-validation which increases the accuracy whenever we increase the number of trees taken. We have to be careful when carrying out an additional cross-validation since we might leave some data out of the training. "
   ]
  },
  {
   "cell_type": "markdown",
   "metadata": {},
   "source": [
    "### Comparison of decision tree with random forest"
   ]
  },
  {
   "cell_type": "markdown",
   "metadata": {},
   "source": [
    "* Compare the performance of the RandomForest ensemble with that of a single full decision tree. Compute the AUC as well as the bias and variance. Does the bias and variance increase/decrease for the ensemble? Does the number of trees affect the result?"
   ]
  },
  {
   "cell_type": "markdown",
   "metadata": {},
   "source": [
    "**Performance**"
   ]
  },
  {
   "cell_type": "markdown",
   "metadata": {},
   "source": [
    "First we will compare the performance of the RandomForest with the decision tree. Random forest takes 10 estimators as default."
   ]
  },
  {
   "cell_type": "code",
   "execution_count": null,
   "metadata": {
    "collapsed": false
   },
   "outputs": [],
   "source": [
    "from sklearn.metrics import confusion_matrix\n",
    "from sklearn.tree import DecisionTreeClassifier\n",
    "from sklearn.model_selection import train_test_split\n",
    "\n",
    "# First we split our data into train and test.\n",
    "X_train, X_test, y_train, y_test = train_test_split(X,y, random_state=0)\n",
    "# We proceed to train the random forest and the decision tree.\n",
    "random_forest = RandomForestClassifier()\n",
    "decision_tree = DecisionTreeClassifier()\n",
    "a = random_forest.fit(X_train,y_train)\n",
    "b = decision_tree.fit(X_train,y_train)\n",
    "\n",
    "# We print out the performance of each model\n",
    "print(\"\\n The performance of the random forest is: \", random_forest.score(X_test,y_test))\n",
    "print(\"\\n The performance of the decision tree is: \", decision_tree.score(X_test,y_test))\n",
    "\n"
   ]
  },
  {
   "cell_type": "markdown",
   "metadata": {},
   "source": [
    "As expected, the random forest has a better accuracy since it takes several trees from the data given and each member returns a probability for splitting each class. "
   ]
  },
  {
   "cell_type": "markdown",
   "metadata": {},
   "source": [
    "** Bias and variance**"
   ]
  },
  {
   "cell_type": "markdown",
   "metadata": {},
   "source": [
    "We will calculate now the bias and the variance. \n",
    "\n",
    "For binary classification we need to take 100 bootstraps (samples with replacement). Then we need to follow the computations given below:\n",
    "    \n",
    "**Bias of a point $x$**\n",
    "\n",
    "Let $x$ be a data value in our set.\n",
    "\n",
    "$bias(x)= P(f(x)\\neq y_x)$\n",
    "\n",
    "That means that it is the missclasification ration of point $x$\n",
    "\n",
    "The total bias is given by: $\\sum_{x} w_xbias(x)^2$\n",
    "\n",
    "Where $w_x=P(x)$ (the probability of x occuring in test data). \n",
    "\n",
    "**Variance of a point $x$**\n",
    "\n",
    "Let $x$ be a data value in our set.\n",
    "\n",
    "$variance(x)=\\frac{1-P(f(x)\\in C_1)^2-P(f(x)\\in C_2)^2}{2}$\n",
    "\n",
    "Where $P(f(x)\\in C_i)$ is the ratio of class $i$ prediction for $x$\n",
    "\n",
    "The total variance is given by: $\\sum_{x} w_xvariance(x)  $\n",
    "    "
   ]
  },
  {
   "cell_type": "code",
   "execution_count": null,
   "metadata": {
    "collapsed": false
   },
   "outputs": [],
   "source": [
    "def BiasVariance(clf,X,y,n_repeat):\n",
    "    # Bootstraps\n",
    "    shuffle_split = ShuffleSplit(test_size=0.33, n_splits=n_repeat)\n",
    "\n",
    "    # Store sample predictions\n",
    "    y_all_pred = [[] for _ in range(len(y))]\n",
    "\n",
    "\n",
    "    # Train classifier on each bootstrap and score predictions\n",
    "    for i, (train_index, test_index) in enumerate(shuffle_split.split(X)):\n",
    "        # Train and predict\n",
    "        a = clf.fit(X[train_index], y[train_index])\n",
    "        y_pred = clf.predict(X[test_index])\n",
    "\n",
    "        # Store predictions\n",
    "        for i,index in enumerate(test_index):\n",
    "            y_all_pred[index].append(y_pred[i])\n",
    "\n",
    "    # Compute bias, variance, error\n",
    "    bias_sq = sum([ (1 - x.count(y[i])/len(x))**2 * len(x)/n_repeat \n",
    "                for i,x in enumerate(y_all_pred)])\n",
    "    var = sum([((1 - ((x.count(0)/len(x))**2 + (x.count(1)/len(x))**2))/2) * len(x)/n_repeat\n",
    "               for i,x in enumerate(y_all_pred)])\n",
    "    print(\"Bias squared: %.2f, Variance: %.2f\" % (bias_sq, var))\n",
    "    return(bias_sq,var)"
   ]
  },
  {
   "cell_type": "markdown",
   "metadata": {},
   "source": [
    "Now we present the bias and variance of the single tree and the random forest classifiers."
   ]
  },
  {
   "cell_type": "code",
   "execution_count": null,
   "metadata": {
    "collapsed": false
   },
   "outputs": [],
   "source": [
    "n_repeat = 100\n",
    "clf = DecisionTreeClassifier()\n",
    "print(\"Single tree classifier\\n\")\n",
    "BiasVariance(clf,X,y,n_repeat)\n",
    "print(\"Random forest classifier\\n\")\n",
    "clf = RandomForestClassifier(n_estimators=10)\n",
    "BiasVariance(clf,X,y,n_repeat)"
   ]
  },
  {
   "cell_type": "markdown",
   "metadata": {},
   "source": [
    "As we can see from the previous result. Our single tree has a bias and a variance larger compared to the random forest. It seems that the predictions get more accurate and less disperse with the amount of trees. We will verify this by using different amounts of trees and see the behavior of the bias and the variance."
   ]
  },
  {
   "cell_type": "code",
   "execution_count": null,
   "metadata": {
    "collapsed": false
   },
   "outputs": [],
   "source": [
    "# Number of trees that we will be comparing.\n",
    "trees = 2**np.linspace(1,8,8)\n",
    "trees = trees.astype(int)\n",
    "# List with the values of the bias for each number of trees\n",
    "bias = np.zeros(len(trees))\n",
    "# List with the values of the variance for each number of trees\n",
    "variance = np.zeros(len(trees))\n",
    "j=0\n",
    "for i in trees:\n",
    "    clf = RandomForestClassifier(n_estimators=i)\n",
    "    bias[j],variance[j]=BiasVariance(clf,X,y,n_repeat)\n",
    "    j=j+1\n"
   ]
  },
  {
   "cell_type": "markdown",
   "metadata": {},
   "source": [
    "We plot our results."
   ]
  },
  {
   "cell_type": "code",
   "execution_count": null,
   "metadata": {
    "collapsed": false
   },
   "outputs": [],
   "source": [
    "plt.plot(trees, bias,'-rx',label='Bias')\n",
    "plt.xlabel(\"n_estimators\")\n",
    "plt.ylabel(\"Bias\")\n",
    "plt.grid()\n",
    "plt.title(\"Bias in terms of the number of trees\")\n",
    "plt.legend(loc=\"best\")\n",
    "plt.show()\n",
    "ax1 = fig.add_subplot(121)\n",
    "plt.plot(trees,variance,'-rx')\n",
    "plt.xlabel(\"n_estimators\")\n",
    "plt.ylabel(\"Variance\")\n",
    "plt.grid()\n",
    "plt.title(\"Variance in terms of the number of trees\")\n",
    "plt.legend(loc=\"best\")\n",
    "plt.show()"
   ]
  },
  {
   "cell_type": "markdown",
   "metadata": {},
   "source": [
    "As we can notice the value of the variance and the bias decreases with the number of trees. That means that the predictions get more specific and less dispersed for each of the bootstraps. This makes sense since we are taking a more averaged decision on how to classify our data. Now we will see what happens to the area under the curve."
   ]
  },
  {
   "cell_type": "code",
   "execution_count": null,
   "metadata": {
    "collapsed": false
   },
   "outputs": [],
   "source": [
    "from sklearn.metrics import roc_auc_score\n",
    "\n",
    "# First we split the data to calculate the area under the curve\n",
    "X_train, X_test, y_train, y_test = train_test_split(X,y, random_state=0)\n",
    "\n",
    "# We define both of our classifiers\n",
    "random_forest = RandomForestClassifier()\n",
    "a = random_forest.fit(X_train, y_train)\n",
    "decision_tree = DecisionTreeClassifier()\n",
    "b = decision_tree.fit(X_train,y_train)\n",
    "\n",
    "random_forest_auc = roc_auc_score(y_test, random_forest.predict_proba(X_test)[:, 1])\n",
    "decision_tree_auc = roc_auc_score(y_test, decision_tree.predict_proba(X_test)[:, 1])\n",
    "print(\"AUC for Random Forest: {:.3f}\".format(random_forest_auc))\n",
    "print(\"AUC for Decision Tree: {:.3f}\".format(decision_tree_auc))"
   ]
  },
  {
   "cell_type": "markdown",
   "metadata": {},
   "source": [
    "The area under the curve corresponds to the integral of the TPR with respect to the FPR. If we have random guessing of categorios the value of the integral is 0.5. In our case the Random forest has a larger AUC compared to the Decision tree. This means that OVERALL there is a higher true positive rate compared to the false positive rate. It is more likely that we will identify true positives than false positives. \n",
    "\n",
    "The higher the AUC the better, the AUC gives a good general idea of the method. Nevertheless it skips to provide details about the parameters and the TPR and FPR. To find out it is good to do a ROC curve."
   ]
  },
  {
   "cell_type": "markdown",
   "metadata": {},
   "source": [
    "We will also analyze how the area under the curve changes with respect to the number of trees of the random forest. "
   ]
  },
  {
   "cell_type": "code",
   "execution_count": null,
   "metadata": {
    "collapsed": false
   },
   "outputs": [],
   "source": [
    "trees = 2**np.linspace(1,10,10)\n",
    "trees = trees.astype(int)\n",
    "AUC_random_forest = []\n",
    "for i in trees:\n",
    "    random_forest = RandomForestClassifier(n_estimators=i, random_state=2)\n",
    "    out = random_forest.fit(X_train, y_train)\n",
    "    random_forest_auc = roc_auc_score(y_test, random_forest.predict_proba(X_test)[:, 1])\n",
    "    AUC_random_forest.append(random_forest_auc)\n",
    "    #print(\"AUC for Random Forest: {:.3f}\".format(random_forest_auc), \" with \",i,\" trees\")"
   ]
  },
  {
   "cell_type": "markdown",
   "metadata": {},
   "source": [
    "We will plot the AUC of the random forest and also the one from a single decision tree just to give a perspective on the magnitudes although the single decision tree doesn't depend on the number of trees."
   ]
  },
  {
   "cell_type": "code",
   "execution_count": null,
   "metadata": {
    "collapsed": false
   },
   "outputs": [],
   "source": [
    "plt.plot(trees,AUC_random_forest,'-bx',label='Random forest')\n",
    "plt.plot(trees,decision_tree_auc*np.ones(len(trees)),'-rx',label='Single decision tree')\n",
    "plt.xlabel(\"Number of trees\")\n",
    "plt.ylabel(\"Area under the curve (AUC)\")\n",
    "plt.legend(loc=\"best\")\n",
    "plt.title(\"Area under the curve of a random forest with respect to the number of trees\")\n",
    "plt.grid()"
   ]
  },
  {
   "cell_type": "markdown",
   "metadata": {},
   "source": [
    "As we can notice, the AUC increases dramatically for the first values of trees between 2 and 200. After 200 the value only increases a little for each new iteration. Comparing to the AUC of a single tree we can see that we quickly depart from its performance by increasing the number of trees. "
   ]
  },
  {
   "cell_type": "markdown",
   "metadata": {},
   "source": [
    "## A regression benchmark (1 point)\n",
    "Consider the liver-disorder dataset (http://www.openml.org/d/8). The goal is to predict how much alcohol someone consumed based on blood test values.\n",
    "\n",
    "- Take a selection of the algorithms that we covered in class that can do regression.\n",
    "- Based on what you learned in the previous exercises, make educated guesses about good hyperparameter values and set up a grid or random search.\n",
    "- Evaluate all models with 10-fold cross-validation and root mean squared error (RMSE). Report all results. Which model yields the best results?"
   ]
  },
  {
   "cell_type": "code",
   "execution_count": null,
   "metadata": {
    "collapsed": true
   },
   "outputs": [],
   "source": [
    "liver = oml.datasets.get_dataset(8) # Download Liver-disorders data\n",
    "X, y = liver.get_data(target=liver.default_target_attribute);"
   ]
  },
  {
   "cell_type": "code",
   "execution_count": null,
   "metadata": {
    "collapsed": true
   },
   "outputs": [],
   "source": []
  },
  {
   "cell_type": "code",
   "execution_count": null,
   "metadata": {
    "collapsed": true
   },
   "outputs": [],
   "source": []
  },
  {
   "cell_type": "code",
   "execution_count": null,
   "metadata": {
    "collapsed": true
   },
   "outputs": [],
   "source": []
  },
  {
   "cell_type": "code",
   "execution_count": null,
   "metadata": {
    "collapsed": true
   },
   "outputs": [],
   "source": []
  },
  {
   "cell_type": "code",
   "execution_count": null,
   "metadata": {
    "collapsed": true
   },
   "outputs": [],
   "source": []
  },
  {
   "cell_type": "code",
   "execution_count": null,
   "metadata": {
    "collapsed": true
   },
   "outputs": [],
   "source": []
  },
  {
   "cell_type": "code",
   "execution_count": null,
   "metadata": {
    "collapsed": true
   },
   "outputs": [],
   "source": []
  },
  {
   "cell_type": "code",
   "execution_count": null,
   "metadata": {
    "collapsed": true
   },
   "outputs": [],
   "source": []
  },
  {
   "cell_type": "code",
   "execution_count": null,
   "metadata": {
    "collapsed": true
   },
   "outputs": [],
   "source": []
  },
  {
   "cell_type": "code",
   "execution_count": null,
   "metadata": {
    "collapsed": true
   },
   "outputs": [],
   "source": []
  },
  {
   "cell_type": "code",
   "execution_count": null,
   "metadata": {
    "collapsed": true
   },
   "outputs": [],
   "source": []
  },
  {
   "cell_type": "code",
   "execution_count": null,
   "metadata": {
    "collapsed": true
   },
   "outputs": [],
   "source": []
  },
  {
   "cell_type": "code",
   "execution_count": null,
   "metadata": {
    "collapsed": true
   },
   "outputs": [],
   "source": []
  },
  {
   "cell_type": "code",
   "execution_count": null,
   "metadata": {
    "collapsed": true
   },
   "outputs": [],
   "source": []
  },
  {
   "cell_type": "code",
   "execution_count": null,
   "metadata": {
    "collapsed": true
   },
   "outputs": [],
   "source": []
  },
  {
   "cell_type": "code",
   "execution_count": null,
   "metadata": {
    "collapsed": true
   },
   "outputs": [],
   "source": []
  },
  {
   "cell_type": "code",
   "execution_count": null,
   "metadata": {
    "collapsed": true
   },
   "outputs": [],
   "source": []
  },
  {
   "cell_type": "code",
   "execution_count": null,
   "metadata": {
    "collapsed": true
   },
   "outputs": [],
   "source": []
  },
  {
   "cell_type": "code",
   "execution_count": null,
   "metadata": {
    "collapsed": true
   },
   "outputs": [],
   "source": []
  },
  {
   "cell_type": "code",
   "execution_count": null,
   "metadata": {
    "collapsed": true
   },
   "outputs": [],
   "source": []
  },
  {
   "cell_type": "code",
   "execution_count": null,
   "metadata": {
    "collapsed": true
   },
   "outputs": [],
   "source": []
  },
  {
   "cell_type": "code",
   "execution_count": null,
   "metadata": {
    "collapsed": true
   },
   "outputs": [],
   "source": []
  },
  {
   "cell_type": "code",
   "execution_count": null,
   "metadata": {
    "collapsed": true
   },
   "outputs": [],
   "source": []
  },
  {
   "cell_type": "code",
   "execution_count": null,
   "metadata": {
    "collapsed": true
   },
   "outputs": [],
   "source": []
  },
  {
   "cell_type": "code",
   "execution_count": null,
   "metadata": {
    "collapsed": true
   },
   "outputs": [],
   "source": []
  },
  {
   "cell_type": "code",
   "execution_count": null,
   "metadata": {
    "collapsed": true
   },
   "outputs": [],
   "source": []
  },
  {
   "cell_type": "code",
   "execution_count": null,
   "metadata": {
    "collapsed": true
   },
   "outputs": [],
   "source": []
  },
  {
   "cell_type": "code",
   "execution_count": null,
   "metadata": {
    "collapsed": true
   },
   "outputs": [],
   "source": []
  },
  {
   "cell_type": "code",
   "execution_count": null,
   "metadata": {
    "collapsed": true
   },
   "outputs": [],
   "source": []
  },
  {
   "cell_type": "code",
   "execution_count": null,
   "metadata": {
    "collapsed": true
   },
   "outputs": [],
   "source": []
  },
  {
   "cell_type": "code",
   "execution_count": null,
   "metadata": {
    "collapsed": true
   },
   "outputs": [],
   "source": []
  },
  {
   "cell_type": "code",
   "execution_count": null,
   "metadata": {
    "collapsed": true
   },
   "outputs": [],
   "source": []
  },
  {
   "cell_type": "code",
   "execution_count": null,
   "metadata": {
    "collapsed": true
   },
   "outputs": [],
   "source": []
  },
  {
   "cell_type": "code",
   "execution_count": null,
   "metadata": {
    "collapsed": true
   },
   "outputs": [],
   "source": []
  },
  {
   "cell_type": "code",
   "execution_count": null,
   "metadata": {
    "collapsed": true
   },
   "outputs": [],
   "source": []
  },
  {
   "cell_type": "code",
   "execution_count": null,
   "metadata": {
    "collapsed": true
   },
   "outputs": [],
   "source": []
  },
  {
   "cell_type": "code",
   "execution_count": null,
   "metadata": {
    "collapsed": true
   },
   "outputs": [],
   "source": []
  },
  {
   "cell_type": "code",
   "execution_count": null,
   "metadata": {
    "collapsed": true
   },
   "outputs": [],
   "source": []
  },
  {
   "cell_type": "code",
   "execution_count": null,
   "metadata": {
    "collapsed": true
   },
   "outputs": [],
   "source": []
  },
  {
   "cell_type": "code",
   "execution_count": null,
   "metadata": {
    "collapsed": true
   },
   "outputs": [],
   "source": []
  },
  {
   "cell_type": "code",
   "execution_count": null,
   "metadata": {
    "collapsed": true
   },
   "outputs": [],
   "source": []
  },
  {
   "cell_type": "code",
   "execution_count": null,
   "metadata": {
    "collapsed": true
   },
   "outputs": [],
   "source": []
  },
  {
   "cell_type": "code",
   "execution_count": null,
   "metadata": {
    "collapsed": true
   },
   "outputs": [],
   "source": []
  },
  {
   "cell_type": "code",
   "execution_count": null,
   "metadata": {
    "collapsed": true
   },
   "outputs": [],
   "source": []
  },
  {
   "cell_type": "code",
   "execution_count": null,
   "metadata": {
    "collapsed": true
   },
   "outputs": [],
   "source": []
  },
  {
   "cell_type": "code",
   "execution_count": null,
   "metadata": {
    "collapsed": true
   },
   "outputs": [],
   "source": []
  },
  {
   "cell_type": "code",
   "execution_count": null,
   "metadata": {
    "collapsed": true
   },
   "outputs": [],
   "source": []
  },
  {
   "cell_type": "code",
   "execution_count": null,
   "metadata": {
    "collapsed": true
   },
   "outputs": [],
   "source": []
  },
  {
   "cell_type": "code",
   "execution_count": null,
   "metadata": {
    "collapsed": true
   },
   "outputs": [],
   "source": []
  },
  {
   "cell_type": "code",
   "execution_count": null,
   "metadata": {
    "collapsed": true
   },
   "outputs": [],
   "source": []
  },
  {
   "cell_type": "code",
   "execution_count": null,
   "metadata": {
    "collapsed": true
   },
   "outputs": [],
   "source": []
  },
  {
   "cell_type": "code",
   "execution_count": null,
   "metadata": {
    "collapsed": true
   },
   "outputs": [],
   "source": []
  },
  {
   "cell_type": "code",
   "execution_count": null,
   "metadata": {
    "collapsed": true
   },
   "outputs": [],
   "source": []
  },
  {
   "cell_type": "code",
   "execution_count": null,
   "metadata": {
    "collapsed": true
   },
   "outputs": [],
   "source": []
  },
  {
   "cell_type": "code",
   "execution_count": null,
   "metadata": {
    "collapsed": true
   },
   "outputs": [],
   "source": []
  },
  {
   "cell_type": "code",
   "execution_count": null,
   "metadata": {
    "collapsed": true
   },
   "outputs": [],
   "source": []
  },
  {
   "cell_type": "code",
   "execution_count": null,
   "metadata": {
    "collapsed": true
   },
   "outputs": [],
   "source": []
  },
  {
   "cell_type": "code",
   "execution_count": null,
   "metadata": {
    "collapsed": true
   },
   "outputs": [],
   "source": []
  },
  {
   "cell_type": "code",
   "execution_count": null,
   "metadata": {
    "collapsed": true
   },
   "outputs": [],
   "source": []
  },
  {
   "cell_type": "code",
   "execution_count": null,
   "metadata": {
    "collapsed": true
   },
   "outputs": [],
   "source": []
  },
  {
   "cell_type": "code",
   "execution_count": null,
   "metadata": {
    "collapsed": true
   },
   "outputs": [],
   "source": []
  },
  {
   "cell_type": "code",
   "execution_count": null,
   "metadata": {
    "collapsed": true
   },
   "outputs": [],
   "source": []
  },
  {
   "cell_type": "code",
   "execution_count": null,
   "metadata": {
    "collapsed": true
   },
   "outputs": [],
   "source": []
  },
  {
   "cell_type": "code",
   "execution_count": null,
   "metadata": {
    "collapsed": true
   },
   "outputs": [],
   "source": []
  },
  {
   "cell_type": "code",
   "execution_count": null,
   "metadata": {
    "collapsed": true
   },
   "outputs": [],
   "source": []
  },
  {
   "cell_type": "code",
   "execution_count": null,
   "metadata": {
    "collapsed": true
   },
   "outputs": [],
   "source": []
  },
  {
   "cell_type": "code",
   "execution_count": null,
   "metadata": {
    "collapsed": true
   },
   "outputs": [],
   "source": []
  },
  {
   "cell_type": "code",
   "execution_count": null,
   "metadata": {
    "collapsed": true
   },
   "outputs": [],
   "source": []
  },
  {
   "cell_type": "code",
   "execution_count": null,
   "metadata": {
    "collapsed": true
   },
   "outputs": [],
   "source": []
  },
  {
   "cell_type": "code",
   "execution_count": null,
   "metadata": {
    "collapsed": true
   },
   "outputs": [],
   "source": []
  },
  {
   "cell_type": "code",
   "execution_count": null,
   "metadata": {
    "collapsed": true
   },
   "outputs": [],
   "source": []
  },
  {
   "cell_type": "code",
   "execution_count": null,
   "metadata": {
    "collapsed": true
   },
   "outputs": [],
   "source": []
  },
  {
   "cell_type": "code",
   "execution_count": null,
   "metadata": {
    "collapsed": true
   },
   "outputs": [],
   "source": []
  }
 ],
 "metadata": {
  "anaconda-cloud": {},
  "kernelspec": {
   "display_name": "Python 3",
   "language": "python",
   "name": "python3"
  },
  "language_info": {
   "codemirror_mode": {
    "name": "ipython",
    "version": 3
   },
   "file_extension": ".py",
   "mimetype": "text/x-python",
   "name": "python",
   "nbconvert_exporter": "python",
   "pygments_lexer": "ipython3",
   "version": "3.5.2"
  }
 },
 "nbformat": 4,
 "nbformat_minor": 2
}
